{
 "cells": [
  {
   "cell_type": "code",
   "execution_count": 2,
   "metadata": {},
   "outputs": [],
   "source": [
    "from modules.validator import Validator\n",
    "from modules.eda_class_native import run_eda, standardize_runs_df, df_runid_summary #, Validator\n",
    "from modules.constants_settings import ConstantsSettings as CS\n",
    "import pandas as pd\n",
    "from modules.data_import import infer_source_files_technology, read_references_filter"
   ]
  },
  {
   "cell_type": "code",
   "execution_count": 3,
   "metadata": {},
   "outputs": [],
   "source": [
    "\n",
    "METADATA_DIR = \"benchmark_metadata/\"\n",
    "INTERMEDIATE_OUTPUT_DIR= \"analysis_data/\"\n",
    "OUTPUT_DIR = \"output/\"\n",
    "INPUT_DIR = \"benchmark_data/\"\n",
    "technology= CS.TECHNOLOGY_minion # options minion, illumina\n"
   ]
  },
  {
   "cell_type": "code",
   "execution_count": 4,
   "metadata": {},
   "outputs": [
    {
     "name": "stderr",
     "output_type": "stream",
     "text": [
      "/home/bioinf/Desktop/INSA/Manuscript/Manuscript_TELEVIR/BENCHMARK_EDA/modules/eda_class_native.py:607: DtypeWarning: Columns (46,47) have mixed types. Specify dtype option on import or set low_memory=False.\n",
      "  combdat = pd.read_csv(self.combined_reports_path, sep=\"\\t\")\n"
     ]
    }
   ],
   "source": [
    "\n",
    "all_reports_file, all_parameters_file, all_references_file, validation_file= infer_source_files_technology(technology, INPUT_DIR, METADATA_DIR)\n",
    "raw_refs= read_references_filter(all_references_file, benchmark_prefix=\"benchmark_batch\")\n",
    "\n",
    "## validation data\n",
    "validator = Validator(validation_file, raw_refs)\n",
    "\n",
    "\n",
    "### summary data\n",
    "eda_runs = run_eda(validator, all_reports_file, all_parameters_file, \n",
    "                   INTERMEDIATE_OUTPUT_DIR)\n",
    "\n",
    "\n",
    "### pre-processing\n",
    "eda_runs.split()\n",
    "eda_runs.combine_data()\n",
    "\n",
    "full_data = eda_runs.combdat\n",
    "dataset_success = eda_runs.get_combd_data_success()\n",
    "sources = eda_runs.sources\n",
    "\n",
    "combdat_full_process = standardize_runs_df(eda_runs.combdat) ##\n",
    "run_assess = df_runid_summary(combdat_full_process, INTERMEDIATE_OUTPUT_DIR, technology=technology)\n"
   ]
  },
  {
   "cell_type": "code",
   "execution_count": 5,
   "metadata": {},
   "outputs": [
    {
     "name": "stdout",
     "output_type": "stream",
     "text": [
      "node_runs_df (2574, 2)\n"
     ]
    }
   ],
   "source": [
    "\n",
    "#####\n",
    "### generate benchmark tree, calculate scores\n",
    "from modules.benchmark_graph_utils import pipeline_tree, tree_plot\n",
    "\n",
    "pipe_tree = pipeline_tree(INTERMEDIATE_OUTPUT_DIR)\n",
    "pipe_tree.param_input(technology)\n",
    "pipe_tree.create_pipe_tree()\n",
    "\n",
    "inter_scores= pipe_tree.calculate_node_scores_with_source_subset_draw(\n",
    "    eda_runs.softs, run_assess, cv= 100, subset=.7)\n",
    "\n"
   ]
  },
  {
   "attachments": {},
   "cell_type": "markdown",
   "metadata": {},
   "source": [
    "## Workflow Comparison"
   ]
  },
  {
   "cell_type": "code",
   "execution_count": 6,
   "metadata": {},
   "outputs": [
    {
     "data": {
      "image/png": "[encoded data removed]",
      "text/plain": [
       "<Figure size 1300x200 with 1 Axes>"
      ]
     },
     "metadata": {},
     "output_type": "display_data"
    },
    {
     "name": "stdout",
     "output_type": "stream",
     "text": [
      "compressing tree\n"
     ]
    },
    {
     "data": {
      "application/vnd.plotly.v1+json": {
       "config": {
        "plotlyServerURL": "https://plot.ly"
       },
       "data": [
        {
         "hoverinfo": "none",
         "line": {
          "color": "#888",
          "width": 0.5
         },
         "mode": "lines",
         "type": "scatter",
         "x": [
          0.5,
          0.16666666666666666,
          null,
          0.5,
          0.5,
          null,
          0.5,
          0.8333333333333333,
          null,
          0.16666666666666666,
          0.08333333333333333,
          null,
          0.16666666666666666,
          0.25,
          null,
          0.08333333333333333,
          0.011904761904761904,
          null,
          0.08333333333333333,
          0.03571428571428571,
          null,
          0.08333333333333333,
          0.05952380952380952,
          null,
          0.08333333333333333,
          0.08333333333333333,
          null,
          0.08333333333333333,
          0.10714285714285714,
          null,
          0.08333333333333333,
          0.13095238095238093,
          null,
          0.08333333333333333,
          0.15476190476190474,
          null,
          0.011904761904761904,
          0.003968253968253968,
          null,
          0.011904761904761904,
          0.011904761904761904,
          null,
          0.011904761904761904,
          0.01984126984126984,
          null,
          0.03571428571428571,
          0.02976190476190476,
          null,
          0.03571428571428571,
          0.041666666666666664,
          null,
          0.02976190476190476,
          0.026785714285714284,
          null,
          0.02976190476190476,
          0.03273809523809523,
          null,
          0.041666666666666664,
          0.038690476190476185,
          null,
          0.041666666666666664,
          0.04464285714285714,
          null,
          0.08333333333333333,
          0.07738095238095237,
          null,
          0.08333333333333333,
          0.08928571428571427,
          null,
          0.25,
          0.20833333333333337,
          null,
          0.25,
          0.2916666666666667,
          null,
          0.20833333333333337,
          0.17261904761904767,
          null,
          0.20833333333333337,
          0.1845238095238096,
          null,
          0.20833333333333337,
          0.1964285714285715,
          null,
          0.20833333333333337,
          0.20833333333333343,
          null,
          0.20833333333333337,
          0.22023809523809534,
          null,
          0.20833333333333337,
          0.23214285714285726,
          null,
          0.20833333333333337,
          0.24404761904761918,
          null,
          0.17261904761904767,
          0.16865079365079372,
          null,
          0.17261904761904767,
          0.17261904761904767,
          null,
          0.17261904761904767,
          0.17658730158730163,
          null,
          0.1845238095238096,
          0.18154761904761912,
          null,
          0.1845238095238096,
          0.18750000000000008,
          null,
          0.18154761904761912,
          0.1800595238095239,
          null,
          0.18154761904761912,
          0.18303571428571436,
          null,
          0.18750000000000008,
          0.18601190476190485,
          null,
          0.18750000000000008,
          0.18898809523809532,
          null,
          0.20833333333333343,
          0.20535714285714296,
          null,
          0.20833333333333343,
          0.21130952380952392,
          null,
          0.2916666666666667,
          0.25595238095238093,
          null,
          0.2916666666666667,
          0.26785714285714285,
          null,
          0.2916666666666667,
          0.27976190476190477,
          null,
          0.2916666666666667,
          0.2916666666666667,
          null,
          0.2916666666666667,
          0.3035714285714286,
          null,
          0.2916666666666667,
          0.3154761904761905,
          null,
          0.2916666666666667,
          0.32738095238095244,
          null,
          0.25595238095238093,
          0.251984126984127,
          null,
          0.25595238095238093,
          0.25595238095238093,
          null,
          0.25595238095238093,
          0.2599206349206349,
          null,
          0.26785714285714285,
          0.2648809523809524,
          null,
          0.26785714285714285,
          0.2708333333333333,
          null,
          0.2648809523809524,
          0.26339285714285715,
          null,
          0.2648809523809524,
          0.2663690476190476,
          null,
          0.2708333333333333,
          0.2693452380952381,
          null,
          0.2708333333333333,
          0.27232142857142855,
          null,
          0.2916666666666667,
          0.2886904761904762,
          null,
          0.2916666666666667,
          0.29464285714285715,
          null,
          0.5,
          0.41666666666666674,
          null,
          0.5,
          0.5833333333333334,
          null,
          0.41666666666666674,
          0.34523809523809534,
          null,
          0.41666666666666674,
          0.3690476190476192,
          null,
          0.41666666666666674,
          0.392857142857143,
          null,
          0.41666666666666674,
          0.41666666666666685,
          null,
          0.41666666666666674,
          0.4404761904761907,
          null,
          0.41666666666666674,
          0.4642857142857145,
          null,
          0.41666666666666674,
          0.48809523809523836,
          null,
          0.34523809523809534,
          0.33730158730158744,
          null,
          0.34523809523809534,
          0.34523809523809534,
          null,
          0.34523809523809534,
          0.35317460317460325,
          null,
          0.3690476190476192,
          0.36309523809523825,
          null,
          0.3690476190476192,
          0.37500000000000017,
          null,
          0.36309523809523825,
          0.3601190476190478,
          null,
          0.36309523809523825,
          0.3660714285714287,
          null,
          0.37500000000000017,
          0.3720238095238097,
          null,
          0.37500000000000017,
          0.37797619047619063,
          null,
          0.41666666666666685,
          0.4107142857142859,
          null,
          0.41666666666666685,
          0.42261904761904784,
          null,
          0.5833333333333334,
          0.5416666666666666,
          null,
          0.5833333333333334,
          0.625,
          null,
          0.5416666666666666,
          0.5059523809523809,
          null,
          0.5416666666666666,
          0.5178571428571428,
          null,
          0.5416666666666666,
          0.5297619047619047,
          null,
          0.5416666666666666,
          0.5416666666666665,
          null,
          0.5416666666666666,
          0.5535714285714284,
          null,
          0.5416666666666666,
          0.5654761904761902,
          null,
          0.5416666666666666,
          0.5773809523809521,
          null,
          0.5059523809523809,
          0.501984126984127,
          null,
          0.5059523809523809,
          0.5059523809523809,
          null,
          0.5059523809523809,
          0.5099206349206349,
          null,
          0.5178571428571428,
          0.5148809523809523,
          null,
          0.5178571428571428,
          0.5208333333333333,
          null,
          0.5148809523809523,
          0.5133928571428571,
          null,
          0.5148809523809523,
          0.5163690476190476,
          null,
          0.5208333333333333,
          0.519345238095238,
          null,
          0.5208333333333333,
          0.5223214285714285,
          null,
          0.5416666666666665,
          0.538690476190476,
          null,
          0.5416666666666665,
          0.544642857142857,
          null,
          0.625,
          0.5892857142857143,
          null,
          0.625,
          0.6011904761904762,
          null,
          0.625,
          0.613095238095238,
          null,
          0.625,
          0.6249999999999999,
          null,
          0.625,
          0.6369047619047618,
          null,
          0.625,
          0.6488095238095236,
          null,
          0.625,
          0.6607142857142855,
          null,
          0.5892857142857143,
          0.5853174603174603,
          null,
          0.5892857142857143,
          0.5892857142857143,
          null,
          0.5892857142857143,
          0.5932539682539683,
          null,
          0.6011904761904762,
          0.5982142857142857,
          null,
          0.6011904761904762,
          0.6041666666666666,
          null,
          0.5982142857142857,
          0.5967261904761905,
          null,
          0.5982142857142857,
          0.5997023809523809,
          null,
          0.6041666666666666,
          0.6026785714285714,
          null,
          0.6041666666666666,
          0.6056547619047619,
          null,
          0.6249999999999999,
          0.6220238095238094,
          null,
          0.6249999999999999,
          0.6279761904761904,
          null,
          0.8333333333333333,
          0.7499999999999999,
          null,
          0.8333333333333333,
          0.9166666666666665,
          null,
          0.7499999999999999,
          0.6785714285714285,
          null,
          0.7499999999999999,
          0.7023809523809523,
          null,
          0.7499999999999999,
          0.7261904761904762,
          null,
          0.7499999999999999,
          0.75,
          null,
          0.7499999999999999,
          0.7738095238095238,
          null,
          0.7499999999999999,
          0.7976190476190477,
          null,
          0.7499999999999999,
          0.8214285714285715,
          null,
          0.6785714285714285,
          0.6706349206349206,
          null,
          0.6785714285714285,
          0.6785714285714285,
          null,
          0.6785714285714285,
          0.6865079365079364,
          null,
          0.7023809523809523,
          0.6964285714285714,
          null,
          0.7023809523809523,
          0.7083333333333333,
          null,
          0.6964285714285714,
          0.6934523809523809,
          null,
          0.6964285714285714,
          0.6994047619047619,
          null,
          0.7083333333333333,
          0.7053571428571428,
          null,
          0.7083333333333333,
          0.7113095238095237,
          null,
          0.75,
          0.7440476190476191,
          null,
          0.75,
          0.7559523809523809,
          null,
          0.9166666666666665,
          0.8749999999999999,
          null,
          0.9166666666666665,
          0.9583333333333333,
          null,
          0.8749999999999999,
          0.8392857142857142,
          null,
          0.8749999999999999,
          0.851190476190476,
          null,
          0.8749999999999999,
          0.8630952380952379,
          null,
          0.8749999999999999,
          0.8749999999999998,
          null,
          0.8749999999999999,
          0.8869047619047616,
          null,
          0.8749999999999999,
          0.8988095238095235,
          null,
          0.8749999999999999,
          0.9107142857142854,
          null,
          0.8392857142857142,
          0.8353174603174602,
          null,
          0.8392857142857142,
          0.8392857142857142,
          null,
          0.8392857142857142,
          0.8432539682539681,
          null,
          0.851190476190476,
          0.8482142857142856,
          null,
          0.851190476190476,
          0.8541666666666665,
          null,
          0.8482142857142856,
          0.8467261904761904,
          null,
          0.8482142857142856,
          0.8497023809523808,
          null,
          0.8541666666666665,
          0.8526785714285713,
          null,
          0.8541666666666665,
          0.8556547619047618,
          null,
          0.8749999999999998,
          0.8720238095238093,
          null,
          0.8749999999999998,
          0.8779761904761902,
          null,
          0.9583333333333333,
          0.9226190476190476,
          null,
          0.9583333333333333,
          0.9345238095238094,
          null,
          0.9583333333333333,
          0.9464285714285713,
          null,
          0.9583333333333333,
          0.9583333333333331,
          null,
          0.9583333333333333,
          0.970238095238095,
          null,
          0.9583333333333333,
          0.9821428571428569,
          null,
          0.9583333333333333,
          0.9940476190476187,
          null,
          0.9226190476190476,
          0.9186507936507936,
          null,
          0.9226190476190476,
          0.9226190476190476,
          null,
          0.9226190476190476,
          0.9265873015873015,
          null,
          0.9345238095238094,
          0.931547619047619,
          null,
          0.9345238095238094,
          0.9374999999999999,
          null,
          0.931547619047619,
          0.9300595238095237,
          null,
          0.931547619047619,
          0.9330357142857142,
          null,
          0.9374999999999999,
          0.9360119047619047,
          null,
          0.9374999999999999,
          0.9389880952380951,
          null,
          0.9583333333333331,
          0.9553571428571427,
          null,
          0.9583333333333331,
          0.9613095238095236,
          null
         ],
         "y": [
          0,
          -0.2,
          null,
          0,
          -0.2,
          null,
          0,
          -0.2,
          null,
          -0.2,
          -0.4,
          null,
          -0.2,
          -0.4,
          null,
          -0.4,
          -0.6000000000000001,
          null,
          -0.4,
          -0.6000000000000001,
          null,
          -0.4,
          -0.6000000000000001,
          null,
          -0.4,
          -0.6000000000000001,
          null,
          -0.4,
          -0.6000000000000001,
          null,
          -0.4,
          -0.6000000000000001,
          null,
          -0.4,
          -0.6000000000000001,
          null,
          -0.6000000000000001,
          -0.8,
          null,
          -0.6000000000000001,
          -0.8,
          null,
          -0.6000000000000001,
          -0.8,
          null,
          -0.6000000000000001,
          -0.8,
          null,
          -0.6000000000000001,
          -0.8,
          null,
          -0.8,
          -1,
          null,
          -0.8,
          -1,
          null,
          -0.8,
          -1,
          null,
          -0.8,
          -1,
          null,
          -0.6000000000000001,
          -0.8,
          null,
          -0.6000000000000001,
          -0.8,
          null,
          -0.4,
          -0.6000000000000001,
          null,
          -0.4,
          -0.6000000000000001,
          null,
          -0.6000000000000001,
          -0.8,
          null,
          -0.6000000000000001,
          -0.8,
          null,
          -0.6000000000000001,
          -0.8,
          null,
          -0.6000000000000001,
          -0.8,
          null,
          -0.6000000000000001,
          -0.8,
          null,
          -0.6000000000000001,
          -0.8,
          null,
          -0.6000000000000001,
          -0.8,
          null,
          -0.8,
          -1,
          null,
          -0.8,
          -1,
          null,
          -0.8,
          -1,
          null,
          -0.8,
          -1,
          null,
          -0.8,
          -1,
          null,
          -1,
          -1.2,
          null,
          -1,
          -1.2,
          null,
          -1,
          -1.2,
          null,
          -1,
          -1.2,
          null,
          -0.8,
          -1,
          null,
          -0.8,
          -1,
          null,
          -0.6000000000000001,
          -0.8,
          null,
          -0.6000000000000001,
          -0.8,
          null,
          -0.6000000000000001,
          -0.8,
          null,
          -0.6000000000000001,
          -0.8,
          null,
          -0.6000000000000001,
          -0.8,
          null,
          -0.6000000000000001,
          -0.8,
          null,
          -0.6000000000000001,
          -0.8,
          null,
          -0.8,
          -1,
          null,
          -0.8,
          -1,
          null,
          -0.8,
          -1,
          null,
          -0.8,
          -1,
          null,
          -0.8,
          -1,
          null,
          -1,
          -1.2,
          null,
          -1,
          -1.2,
          null,
          -1,
          -1.2,
          null,
          -1,
          -1.2,
          null,
          -0.8,
          -1,
          null,
          -0.8,
          -1,
          null,
          -0.2,
          -0.4,
          null,
          -0.2,
          -0.4,
          null,
          -0.4,
          -0.6000000000000001,
          null,
          -0.4,
          -0.6000000000000001,
          null,
          -0.4,
          -0.6000000000000001,
          null,
          -0.4,
          -0.6000000000000001,
          null,
          -0.4,
          -0.6000000000000001,
          null,
          -0.4,
          -0.6000000000000001,
          null,
          -0.4,
          -0.6000000000000001,
          null,
          -0.6000000000000001,
          -0.8,
          null,
          -0.6000000000000001,
          -0.8,
          null,
          -0.6000000000000001,
          -0.8,
          null,
          -0.6000000000000001,
          -0.8,
          null,
          -0.6000000000000001,
          -0.8,
          null,
          -0.8,
          -1,
          null,
          -0.8,
          -1,
          null,
          -0.8,
          -1,
          null,
          -0.8,
          -1,
          null,
          -0.6000000000000001,
          -0.8,
          null,
          -0.6000000000000001,
          -0.8,
          null,
          -0.4,
          -0.6000000000000001,
          null,
          -0.4,
          -0.6000000000000001,
          null,
          -0.6000000000000001,
          -0.8,
          null,
          -0.6000000000000001,
          -0.8,
          null,
          -0.6000000000000001,
          -0.8,
          null,
          -0.6000000000000001,
          -0.8,
          null,
          -0.6000000000000001,
          -0.8,
          null,
          -0.6000000000000001,
          -0.8,
          null,
          -0.6000000000000001,
          -0.8,
          null,
          -0.8,
          -1,
          null,
          -0.8,
          -1,
          null,
          -0.8,
          -1,
          null,
          -0.8,
          -1,
          null,
          -0.8,
          -1,
          null,
          -1,
          -1.2,
          null,
          -1,
          -1.2,
          null,
          -1,
          -1.2,
          null,
          -1,
          -1.2,
          null,
          -0.8,
          -1,
          null,
          -0.8,
          -1,
          null,
          -0.6000000000000001,
          -0.8,
          null,
          -0.6000000000000001,
          -0.8,
          null,
          -0.6000000000000001,
          -0.8,
          null,
          -0.6000000000000001,
          -0.8,
          null,
          -0.6000000000000001,
          -0.8,
          null,
          -0.6000000000000001,
          -0.8,
          null,
          -0.6000000000000001,
          -0.8,
          null,
          -0.8,
          -1,
          null,
          -0.8,
          -1,
          null,
          -0.8,
          -1,
          null,
          -0.8,
          -1,
          null,
          -0.8,
          -1,
          null,
          -1,
          -1.2,
          null,
          -1,
          -1.2,
          null,
          -1,
          -1.2,
          null,
          -1,
          -1.2,
          null,
          -0.8,
          -1,
          null,
          -0.8,
          -1,
          null,
          -0.2,
          -0.4,
          null,
          -0.2,
          -0.4,
          null,
          -0.4,
          -0.6000000000000001,
          null,
          -0.4,
          -0.6000000000000001,
          null,
          -0.4,
          -0.6000000000000001,
          null,
          -0.4,
          -0.6000000000000001,
          null,
          -0.4,
          -0.6000000000000001,
          null,
          -0.4,
          -0.6000000000000001,
          null,
          -0.4,
          -0.6000000000000001,
          null,
          -0.6000000000000001,
          -0.8,
          null,
          -0.6000000000000001,
          -0.8,
          null,
          -0.6000000000000001,
          -0.8,
          null,
          -0.6000000000000001,
          -0.8,
          null,
          -0.6000000000000001,
          -0.8,
          null,
          -0.8,
          -1,
          null,
          -0.8,
          -1,
          null,
          -0.8,
          -1,
          null,
          -0.8,
          -1,
          null,
          -0.6000000000000001,
          -0.8,
          null,
          -0.6000000000000001,
          -0.8,
          null,
          -0.4,
          -0.6000000000000001,
          null,
          -0.4,
          -0.6000000000000001,
          null,
          -0.6000000000000001,
          -0.8,
          null,
          -0.6000000000000001,
          -0.8,
          null,
          -0.6000000000000001,
          -0.8,
          null,
          -0.6000000000000001,
          -0.8,
          null,
          -0.6000000000000001,
          -0.8,
          null,
          -0.6000000000000001,
          -0.8,
          null,
          -0.6000000000000001,
          -0.8,
          null,
          -0.8,
          -1,
          null,
          -0.8,
          -1,
          null,
          -0.8,
          -1,
          null,
          -0.8,
          -1,
          null,
          -0.8,
          -1,
          null,
          -1,
          -1.2,
          null,
          -1,
          -1.2,
          null,
          -1,
          -1.2,
          null,
          -1,
          -1.2,
          null,
          -0.8,
          -1,
          null,
          -0.8,
          -1,
          null,
          -0.6000000000000001,
          -0.8,
          null,
          -0.6000000000000001,
          -0.8,
          null,
          -0.6000000000000001,
          -0.8,
          null,
          -0.6000000000000001,
          -0.8,
          null,
          -0.6000000000000001,
          -0.8,
          null,
          -0.6000000000000001,
          -0.8,
          null,
          -0.6000000000000001,
          -0.8,
          null,
          -0.8,
          -1,
          null,
          -0.8,
          -1,
          null,
          -0.8,
          -1,
          null,
          -0.8,
          -1,
          null,
          -0.8,
          -1,
          null,
          -1,
          -1.2,
          null,
          -1,
          -1.2,
          null,
          -1,
          -1.2,
          null,
          -1,
          -1.2,
          null,
          -0.8,
          -1,
          null,
          -0.8,
          -1,
          null
         ]
        },
        {
         "hoverinfo": "text",
         "marker": {
          "color": [
           0.25296826498393354,
           0.25233323481369613,
           0.25730858341555335,
           0.3310147834972948,
           0.3310147834972948,
           0.3310147834972948,
           0.3310147834972948,
           0.2442635464605856,
           0.24426354646058568,
           0.23139329814801937,
           0.25713379477315224,
           0.24426354646058568,
           0.23139329814801937,
           0.25713379477315224,
           0.16220322173712273,
           0.27687407133340924,
           0.2936714969352963,
           0.2600766457315222,
           0.12486800303021851,
           0.37690809438571443,
           0.28502836346452926,
           0.2473578862118387,
           0.27491413159918876,
           0.3355190558471279,
           0.3355190558471279,
           0.3355190558471279,
           0.3355190558471279,
           0.2358613907806658,
           0.2358613907806659,
           0.22378951129028887,
           0.24793327027104303,
           0.2358613907806659,
           0.22378951129028887,
           0.24793327027104303,
           0.2798625517832241,
           0.2667606997994111,
           0.2752781333201066,
           0.2582432662787157,
           0.13533570212678916,
           0.37126843400163184,
           0.29979108685547123,
           0.21980164082448858,
           0.3033850452379925,
           0.3033850452379925,
           0.3033850452379925,
           0.3033850452379925,
           0.16881951242231677,
           0.16881951242231683,
           0.21964490613872903,
           0.11799411870590455,
           0.16881951242231683,
           0.21964490613872903,
           0.11799411870590455,
           0.13718654162006616,
           0.19326164917008776,
           0.271545799866828,
           0.11497749847334755,
           0.08875081086779,
           0.3450031153444821,
           0.3022048111086853,
           0.25070409180513037,
           0.2557825490156547,
           0.3310147834972948,
           0.3310147834972948,
           0.3310147834972948,
           0.3310147834972948,
           0.2442635464605856,
           0.24426354646058568,
           0.23139329814801937,
           0.25713379477315224,
           0.24426354646058568,
           0.23139329814801937,
           0.25713379477315224,
           0.1585594480137242,
           0.27687407133340924,
           0.2936714969352963,
           0.2600766457315222,
           0.11845171303391065,
           0.3762859173061287,
           0.28502836346452926,
           0.24562563459460607,
           0.27443854506847337,
           0.3355190558471279,
           0.3355190558471279,
           0.3355190558471279,
           0.3355190558471279,
           0.2358613907806658,
           0.2358613907806659,
           0.22378951129028887,
           0.24793327027104303,
           0.2358613907806659,
           0.22378951129028887,
           0.24793327027104303,
           0.2798625517832241,
           0.2667606997994111,
           0.2752781333201066,
           0.2582432662787157,
           0.12561396403747113,
           0.3776610663759422,
           0.29979108685547123,
           0.21681272412073874,
           0.3033850452379925,
           0.3033850452379925,
           0.3033850452379925,
           0.3033850452379925,
           0.16881951242231677,
           0.16881951242231683,
           0.21964490613872903,
           0.11799411870590455,
           0.16881951242231683,
           0.21964490613872903,
           0.11799411870590455,
           0.13718654162006616,
           0.19326164917008776,
           0.271545799866828,
           0.11497749847334755,
           0.06782839394154096,
           0.3450031153444821,
           0.3022048111086853,
           0.255867468332974,
           0.25383626053902114,
           0.31263478577057663,
           0.31263478577057663,
           0.31263478577057663,
           0.31263478577057663,
           0.2523836880800043,
           0.25238368808000416,
           0.2629331289399053,
           0.24183424722010302,
           0.25238368808000416,
           0.2629331289399053,
           0.24183424722010302,
           0.16153170819569532,
           0.2659684287469605,
           0.25908018034841757,
           0.27285667714550327,
           0.14245080569439542,
           0.3547805366952437,
           0.28710387059027287,
           0.25789867612692696,
           0.2931247274111926,
           0.33551762154986525,
           0.33551762154986525,
           0.33551762154986525,
           0.33551762154986525,
           0.26033293945230335,
           0.2603329394523033,
           0.27148781264512184,
           0.24917806625948477,
           0.2603329394523033,
           0.27148781264512184,
           0.24917806625948477,
           0.34106389350422,
           0.2750978322897088,
           0.26413408345342665,
           0.2860615811259906,
           0.15934425084476359,
           0.37693158366351814,
           0.3035849705739695,
           0.22267262484266165,
           0.29925045054916305,
           0.29925045054916305,
           0.29925045054916305,
           0.29925045054916305,
           0.1978852141487786,
           0.1978852141487786,
           0.2755699307962302,
           0.12020049750132707,
           0.1978852141487786,
           0.2755699307962302,
           0.12020049750132707,
           0.1533032822168607,
           0.18661681361884155,
           0.24438373862998172,
           0.12884988860770144,
           0.10019459575693808,
           0.317408970711968,
           0.30404904689608125
          ],
          "colorbar": {
           "thickness": 15,
           "title": {
            "side": "right",
            "text": "combine performace statistic"
           },
           "xanchor": "left"
          },
          "colorscale": [
           [
            0,
            "rgb(255,255,217)"
           ],
           [
            0.125,
            "rgb(237,248,177)"
           ],
           [
            0.25,
            "rgb(199,233,180)"
           ],
           [
            0.375,
            "rgb(127,205,187)"
           ],
           [
            0.5,
            "rgb(65,182,196)"
           ],
           [
            0.625,
            "rgb(29,145,192)"
           ],
           [
            0.75,
            "rgb(34,94,168)"
           ],
           [
            0.875,
            "rgb(37,52,148)"
           ],
           [
            1,
            "rgb(8,29,88)"
           ]
          ],
          "line": {
           "width": 2
          },
          "reversescale": true,
          "showscale": true,
          "size": 10
         },
         "mode": "markers",
         "text": [
          "node: 0<br>w: 0.25297<br>Read quality analysis and improvement: nanofilt<br>NANOFILT_ARGS: -q 8 -l 50 --headcrop 30 --tailcrop 30 --maxlength 50000",
          "node: 2<br>w: 0.25233<br>Viral enrichment: kaiju<br>KAIJU_ARGS: -e 5 -s 50 -x -v<br>KAIJU_DB: kaiju/viral/kaiju_db_viruses.fmi<br>KAIJU_THREADS: 4<br>Assembly: raven<br>RAVEN_ARGS: -p2 -f0.001 -w5 -k15<br>ASSEMBLY_LTRIM: 50",
          "node: 11<br>w: 0.25731<br>Contig classification: blast<br>BLAST_ARGS: -evalue 1e-5 -max_target_seqs 5<br>BLAST_DB: blast/NUC/refseq_viral_genome<br>BLAST_THREADS: 4",
          "node: 16<br>w: 0.33101<br>Read classification: krakenuniq",
          "node: 23<br>w: 0.33101<br>KRAKENUNIQ_ARGS: --exact<br>KRAKENUNIQ_THREADS: 8<br>KRAKENUNIQ_DB: kuniq/viral<br>Remapping: minimap2<br>MINIMAP_THREADS: -t 4<br>MINIMAP_ARGS: -t 4 --secondary=no<br>MINIMAP_DB: refseq_viral.genome.fna.gz<br>MINIMAP_AX: map-ont<br>REMAP_REF: refseq_viral.genome.fna.gz<br>MINIMAP_QCF: 0",
          "node: 24<br>w: 0.33101<br>KRAKENUNIQ_ARGS: --exact --hll-precision 14<br>KRAKENUNIQ_THREADS: 8<br>KRAKENUNIQ_DB: kuniq/viral<br>Remapping: minimap2<br>MINIMAP_THREADS: -t 4<br>MINIMAP_ARGS: -t 4 --secondary=no<br>MINIMAP_DB: refseq_viral.genome.fna.gz<br>MINIMAP_AX: map-ont<br>REMAP_REF: refseq_viral.genome.fna.gz<br>MINIMAP_QCF: 0",
          "node: 25<br>w: 0.33101<br>KRAKENUNIQ_ARGS: --hll-precision 14<br>KRAKENUNIQ_THREADS: 8<br>KRAKENUNIQ_DB: kuniq/viral<br>Remapping: minimap2<br>MINIMAP_THREADS: -t 4<br>MINIMAP_ARGS: -t 4 --secondary=no<br>MINIMAP_DB: refseq_viral.genome.fna.gz<br>MINIMAP_AX: map-ont<br>REMAP_REF: refseq_viral.genome.fna.gz<br>MINIMAP_QCF: 0",
          "node: 17<br>w: 0.24426<br>Read classification: fastviromeexplorer",
          "node: 53<br>w: 0.24426<br>FVE_ARGS: -cr 0.5 -co .5 -cn 10",
          "node: 55<br>w: 0.23139<br>FVE_DB: fve/refseq/refseq.idx<br>FVE_THREADS: 4<br>Remapping: minimap2<br>MINIMAP_THREADS: -t 4<br>MINIMAP_ARGS: -t 4 --secondary=no<br>MINIMAP_DB: refseq_viral.genome.fna.gz<br>MINIMAP_AX: map-ont<br>REMAP_REF: refseq_viral.genome.fna.gz<br>MINIMAP_QCF: 0",
          "node: 56<br>w: 0.25713<br>FVE_DB: fve/virosaurus/virosaurus.idx<br>FVE_THREADS: 4<br>Remapping: minimap2<br>MINIMAP_THREADS: -t 4<br>MINIMAP_ARGS: -t 4 --secondary=no<br>MINIMAP_DB: refseq_viral.genome.fna.gz<br>MINIMAP_AX: map-ont<br>REMAP_REF: refseq_viral.genome.fna.gz<br>MINIMAP_QCF: 0",
          "node: 54<br>w: 0.24426<br>FVE_ARGS: -cr 0.7 -co .7 -cn 15",
          "node: 73<br>w: 0.23139<br>FVE_DB: fve/refseq/refseq.idx<br>FVE_THREADS: 4<br>Remapping: minimap2<br>MINIMAP_THREADS: -t 4<br>MINIMAP_ARGS: -t 4 --secondary=no<br>MINIMAP_DB: refseq_viral.genome.fna.gz<br>MINIMAP_AX: map-ont<br>REMAP_REF: refseq_viral.genome.fna.gz<br>MINIMAP_QCF: 0",
          "node: 74<br>w: 0.25713<br>FVE_DB: fve/virosaurus/virosaurus.idx<br>FVE_THREADS: 4<br>Remapping: minimap2<br>MINIMAP_THREADS: -t 4<br>MINIMAP_ARGS: -t 4 --secondary=no<br>MINIMAP_DB: refseq_viral.genome.fna.gz<br>MINIMAP_AX: map-ont<br>REMAP_REF: refseq_viral.genome.fna.gz<br>MINIMAP_QCF: 0",
          "node: 18<br>w: 0.1622<br>Read classification: clark<br>CLARK_ARGS: -m 1 --light<br>CLARK_THREADS: 8<br>CLARK_DB: clark/viruses<br>Remapping: minimap2<br>MINIMAP_THREADS: -t 4<br>MINIMAP_ARGS: -t 4 --secondary=no<br>MINIMAP_DB: refseq_viral.genome.fna.gz<br>MINIMAP_AX: map-ont<br>REMAP_REF: refseq_viral.genome.fna.gz<br>MINIMAP_QCF: 0",
          "node: 19<br>w: 0.27687<br>Read classification: desamba<br>DESAMBA_ARGS: ",
          "node: 102<br>w: 0.29367<br>DESAMBA_DB: desamba/refseq<br>DESAMBA_QFC: 20<br>Remapping: minimap2<br>MINIMAP_THREADS: -t 4<br>MINIMAP_ARGS: -t 4 --secondary=no<br>MINIMAP_DB: refseq_viral.genome.fna.gz<br>MINIMAP_AX: map-ont<br>REMAP_REF: refseq_viral.genome.fna.gz<br>MINIMAP_QCF: 0",
          "node: 103<br>w: 0.26008<br>DESAMBA_DB: desamba/virosaurus<br>DESAMBA_QFC: 20<br>Remapping: minimap2<br>MINIMAP_THREADS: -t 4<br>MINIMAP_ARGS: -t 4 --secondary=no<br>MINIMAP_DB: refseq_viral.genome.fna.gz<br>MINIMAP_AX: map-ont<br>REMAP_REF: refseq_viral.genome.fna.gz<br>MINIMAP_QCF: 0",
          "node: 20<br>w: 0.12487<br>Read classification: kaiju<br>KAIJU_ARGS: -e 3 -s 70 -X -v -a \"mem\"<br>KAIJU_DB: kaiju/viral/kaiju_db_viruses.fmi<br>KAIJU_THREADS: 4<br>Remapping: minimap2<br>MINIMAP_THREADS: -t 4<br>MINIMAP_ARGS: -t 4 --secondary=no<br>MINIMAP_DB: refseq_viral.genome.fna.gz<br>MINIMAP_AX: map-ont<br>REMAP_REF: refseq_viral.genome.fna.gz<br>MINIMAP_QCF: 0",
          "node: 21<br>w: 0.37691<br>Read classification: centrifuge<br>CENTRIFUGE_ARGS: --min-hitlen 22<br>CENTRIFUGE_THREADS: 4<br>CENTRIFUGE_DB: centrifuge/viral/index<br>Remapping: minimap2<br>MINIMAP_THREADS: -t 4<br>MINIMAP_ARGS: -t 4 --secondary=no<br>MINIMAP_DB: refseq_viral.genome.fna.gz<br>MINIMAP_AX: map-ont<br>REMAP_REF: refseq_viral.genome.fna.gz<br>MINIMAP_QCF: 0",
          "node: 22<br>w: 0.28503<br>Read classification: diamond<br>DIAMOND_ARGS: --top 3 -e 0.01 --id 70 --query-cover 60 --algo 0 --very-sensitive --long-reads<br>DIAMOND_DB: diamond/refseq_prot<br>DIAMOND_THREADS: 4<br>Remapping: minimap2<br>MINIMAP_THREADS: -t 4<br>MINIMAP_ARGS: -t 4 --secondary=no<br>MINIMAP_DB: refseq_viral.genome.fna.gz<br>MINIMAP_AX: map-ont<br>REMAP_REF: refseq_viral.genome.fna.gz<br>MINIMAP_QCF: 0",
          "node: 12<br>w: 0.24736<br>Contig classification: minimap2<br>MINIMAP2_ARGS: <br>MINIMAP2_QCF: 20",
          "node: 152<br>w: 0.27491<br>MINIMAP2_DB: refseq_viral.genome.fna.gz",
          "node: 154<br>w: 0.33552<br>Read classification: krakenuniq",
          "node: 161<br>w: 0.33552<br>KRAKENUNIQ_ARGS: --exact<br>KRAKENUNIQ_THREADS: 8<br>KRAKENUNIQ_DB: kuniq/viral<br>Remapping: minimap2<br>MINIMAP_THREADS: -t 4<br>MINIMAP_ARGS: -t 4 --secondary=no<br>MINIMAP_DB: refseq_viral.genome.fna.gz<br>MINIMAP_AX: map-ont<br>REMAP_REF: refseq_viral.genome.fna.gz<br>MINIMAP_QCF: 0",
          "node: 162<br>w: 0.33552<br>KRAKENUNIQ_ARGS: --exact --hll-precision 14<br>KRAKENUNIQ_THREADS: 8<br>KRAKENUNIQ_DB: kuniq/viral<br>Remapping: minimap2<br>MINIMAP_THREADS: -t 4<br>MINIMAP_ARGS: -t 4 --secondary=no<br>MINIMAP_DB: refseq_viral.genome.fna.gz<br>MINIMAP_AX: map-ont<br>REMAP_REF: refseq_viral.genome.fna.gz<br>MINIMAP_QCF: 0",
          "node: 163<br>w: 0.33552<br>KRAKENUNIQ_ARGS: --hll-precision 14<br>KRAKENUNIQ_THREADS: 8<br>KRAKENUNIQ_DB: kuniq/viral<br>Remapping: minimap2<br>MINIMAP_THREADS: -t 4<br>MINIMAP_ARGS: -t 4 --secondary=no<br>MINIMAP_DB: refseq_viral.genome.fna.gz<br>MINIMAP_AX: map-ont<br>REMAP_REF: refseq_viral.genome.fna.gz<br>MINIMAP_QCF: 0",
          "node: 155<br>w: 0.23586<br>Read classification: fastviromeexplorer",
          "node: 191<br>w: 0.23586<br>FVE_ARGS: -cr 0.5 -co .5 -cn 10",
          "node: 193<br>w: 0.22379<br>FVE_DB: fve/refseq/refseq.idx<br>FVE_THREADS: 4<br>Remapping: minimap2<br>MINIMAP_THREADS: -t 4<br>MINIMAP_ARGS: -t 4 --secondary=no<br>MINIMAP_DB: refseq_viral.genome.fna.gz<br>MINIMAP_AX: map-ont<br>REMAP_REF: refseq_viral.genome.fna.gz<br>MINIMAP_QCF: 0",
          "node: 194<br>w: 0.24793<br>FVE_DB: fve/virosaurus/virosaurus.idx<br>FVE_THREADS: 4<br>Remapping: minimap2<br>MINIMAP_THREADS: -t 4<br>MINIMAP_ARGS: -t 4 --secondary=no<br>MINIMAP_DB: refseq_viral.genome.fna.gz<br>MINIMAP_AX: map-ont<br>REMAP_REF: refseq_viral.genome.fna.gz<br>MINIMAP_QCF: 0",
          "node: 192<br>w: 0.23586<br>FVE_ARGS: -cr 0.7 -co .7 -cn 15",
          "node: 211<br>w: 0.22379<br>FVE_DB: fve/refseq/refseq.idx<br>FVE_THREADS: 4<br>Remapping: minimap2<br>MINIMAP_THREADS: -t 4<br>MINIMAP_ARGS: -t 4 --secondary=no<br>MINIMAP_DB: refseq_viral.genome.fna.gz<br>MINIMAP_AX: map-ont<br>REMAP_REF: refseq_viral.genome.fna.gz<br>MINIMAP_QCF: 0",
          "node: 212<br>w: 0.24793<br>FVE_DB: fve/virosaurus/virosaurus.idx<br>FVE_THREADS: 4<br>Remapping: minimap2<br>MINIMAP_THREADS: -t 4<br>MINIMAP_ARGS: -t 4 --secondary=no<br>MINIMAP_DB: refseq_viral.genome.fna.gz<br>MINIMAP_AX: map-ont<br>REMAP_REF: refseq_viral.genome.fna.gz<br>MINIMAP_QCF: 0",
          "node: 156<br>w: 0.27986<br>Read classification: clark<br>CLARK_ARGS: -m 1 --light<br>CLARK_THREADS: 8<br>CLARK_DB: clark/viruses<br>Remapping: minimap2<br>MINIMAP_THREADS: -t 4<br>MINIMAP_ARGS: -t 4 --secondary=no<br>MINIMAP_DB: refseq_viral.genome.fna.gz<br>MINIMAP_AX: map-ont<br>REMAP_REF: refseq_viral.genome.fna.gz<br>MINIMAP_QCF: 0",
          "node: 157<br>w: 0.26676<br>Read classification: desamba<br>DESAMBA_ARGS: ",
          "node: 240<br>w: 0.27528<br>DESAMBA_DB: desamba/refseq<br>DESAMBA_QFC: 20<br>Remapping: minimap2<br>MINIMAP_THREADS: -t 4<br>MINIMAP_ARGS: -t 4 --secondary=no<br>MINIMAP_DB: refseq_viral.genome.fna.gz<br>MINIMAP_AX: map-ont<br>REMAP_REF: refseq_viral.genome.fna.gz<br>MINIMAP_QCF: 0",
          "node: 241<br>w: 0.25824<br>DESAMBA_DB: desamba/virosaurus<br>DESAMBA_QFC: 20<br>Remapping: minimap2<br>MINIMAP_THREADS: -t 4<br>MINIMAP_ARGS: -t 4 --secondary=no<br>MINIMAP_DB: refseq_viral.genome.fna.gz<br>MINIMAP_AX: map-ont<br>REMAP_REF: refseq_viral.genome.fna.gz<br>MINIMAP_QCF: 0",
          "node: 158<br>w: 0.13534<br>Read classification: kaiju<br>KAIJU_ARGS: -e 3 -s 70 -X -v -a \"mem\"<br>KAIJU_DB: kaiju/viral/kaiju_db_viruses.fmi<br>KAIJU_THREADS: 4<br>Remapping: minimap2<br>MINIMAP_THREADS: -t 4<br>MINIMAP_ARGS: -t 4 --secondary=no<br>MINIMAP_DB: refseq_viral.genome.fna.gz<br>MINIMAP_AX: map-ont<br>REMAP_REF: refseq_viral.genome.fna.gz<br>MINIMAP_QCF: 0",
          "node: 159<br>w: 0.37127<br>Read classification: centrifuge<br>CENTRIFUGE_ARGS: --min-hitlen 22<br>CENTRIFUGE_THREADS: 4<br>CENTRIFUGE_DB: centrifuge/viral/index<br>Remapping: minimap2<br>MINIMAP_THREADS: -t 4<br>MINIMAP_ARGS: -t 4 --secondary=no<br>MINIMAP_DB: refseq_viral.genome.fna.gz<br>MINIMAP_AX: map-ont<br>REMAP_REF: refseq_viral.genome.fna.gz<br>MINIMAP_QCF: 0",
          "node: 160<br>w: 0.29979<br>Read classification: diamond<br>DIAMOND_ARGS: --top 3 -e 0.01 --id 70 --query-cover 60 --algo 0 --very-sensitive --long-reads<br>DIAMOND_DB: diamond/refseq_prot<br>DIAMOND_THREADS: 4<br>Remapping: minimap2<br>MINIMAP_THREADS: -t 4<br>MINIMAP_ARGS: -t 4 --secondary=no<br>MINIMAP_DB: refseq_viral.genome.fna.gz<br>MINIMAP_AX: map-ont<br>REMAP_REF: refseq_viral.genome.fna.gz<br>MINIMAP_QCF: 0",
          "node: 153<br>w: 0.2198<br>MINIMAP2_DB: virosaurus90_vertebrate-20200330.fas.gz",
          "node: 288<br>w: 0.30339<br>Read classification: krakenuniq",
          "node: 295<br>w: 0.30339<br>KRAKENUNIQ_ARGS: --exact<br>KRAKENUNIQ_THREADS: 8<br>KRAKENUNIQ_DB: kuniq/viral<br>Remapping: minimap2<br>MINIMAP_THREADS: -t 4<br>MINIMAP_ARGS: -t 4 --secondary=no<br>MINIMAP_DB: refseq_viral.genome.fna.gz<br>MINIMAP_AX: map-ont<br>REMAP_REF: refseq_viral.genome.fna.gz<br>MINIMAP_QCF: 0",
          "node: 296<br>w: 0.30339<br>KRAKENUNIQ_ARGS: --exact --hll-precision 14<br>KRAKENUNIQ_THREADS: 8<br>KRAKENUNIQ_DB: kuniq/viral<br>Remapping: minimap2<br>MINIMAP_THREADS: -t 4<br>MINIMAP_ARGS: -t 4 --secondary=no<br>MINIMAP_DB: refseq_viral.genome.fna.gz<br>MINIMAP_AX: map-ont<br>REMAP_REF: refseq_viral.genome.fna.gz<br>MINIMAP_QCF: 0",
          "node: 297<br>w: 0.30339<br>KRAKENUNIQ_ARGS: --hll-precision 14<br>KRAKENUNIQ_THREADS: 8<br>KRAKENUNIQ_DB: kuniq/viral<br>Remapping: minimap2<br>MINIMAP_THREADS: -t 4<br>MINIMAP_ARGS: -t 4 --secondary=no<br>MINIMAP_DB: refseq_viral.genome.fna.gz<br>MINIMAP_AX: map-ont<br>REMAP_REF: refseq_viral.genome.fna.gz<br>MINIMAP_QCF: 0",
          "node: 289<br>w: 0.16882<br>Read classification: fastviromeexplorer",
          "node: 325<br>w: 0.16882<br>FVE_ARGS: -cr 0.5 -co .5 -cn 10",
          "node: 327<br>w: 0.21964<br>FVE_DB: fve/refseq/refseq.idx<br>FVE_THREADS: 4<br>Remapping: minimap2<br>MINIMAP_THREADS: -t 4<br>MINIMAP_ARGS: -t 4 --secondary=no<br>MINIMAP_DB: refseq_viral.genome.fna.gz<br>MINIMAP_AX: map-ont<br>REMAP_REF: refseq_viral.genome.fna.gz<br>MINIMAP_QCF: 0",
          "node: 328<br>w: 0.11799<br>FVE_DB: fve/virosaurus/virosaurus.idx<br>FVE_THREADS: 4<br>Remapping: minimap2<br>MINIMAP_THREADS: -t 4<br>MINIMAP_ARGS: -t 4 --secondary=no<br>MINIMAP_DB: refseq_viral.genome.fna.gz<br>MINIMAP_AX: map-ont<br>REMAP_REF: refseq_viral.genome.fna.gz<br>MINIMAP_QCF: 0",
          "node: 326<br>w: 0.16882<br>FVE_ARGS: -cr 0.7 -co .7 -cn 15",
          "node: 345<br>w: 0.21964<br>FVE_DB: fve/refseq/refseq.idx<br>FVE_THREADS: 4<br>Remapping: minimap2<br>MINIMAP_THREADS: -t 4<br>MINIMAP_ARGS: -t 4 --secondary=no<br>MINIMAP_DB: refseq_viral.genome.fna.gz<br>MINIMAP_AX: map-ont<br>REMAP_REF: refseq_viral.genome.fna.gz<br>MINIMAP_QCF: 0",
          "node: 346<br>w: 0.11799<br>FVE_DB: fve/virosaurus/virosaurus.idx<br>FVE_THREADS: 4<br>Remapping: minimap2<br>MINIMAP_THREADS: -t 4<br>MINIMAP_ARGS: -t 4 --secondary=no<br>MINIMAP_DB: refseq_viral.genome.fna.gz<br>MINIMAP_AX: map-ont<br>REMAP_REF: refseq_viral.genome.fna.gz<br>MINIMAP_QCF: 0",
          "node: 290<br>w: 0.13719<br>Read classification: clark<br>CLARK_ARGS: -m 1 --light<br>CLARK_THREADS: 8<br>CLARK_DB: clark/viruses<br>Remapping: minimap2<br>MINIMAP_THREADS: -t 4<br>MINIMAP_ARGS: -t 4 --secondary=no<br>MINIMAP_DB: refseq_viral.genome.fna.gz<br>MINIMAP_AX: map-ont<br>REMAP_REF: refseq_viral.genome.fna.gz<br>MINIMAP_QCF: 0",
          "node: 291<br>w: 0.19326<br>Read classification: desamba<br>DESAMBA_ARGS: ",
          "node: 374<br>w: 0.27155<br>DESAMBA_DB: desamba/refseq<br>DESAMBA_QFC: 20<br>Remapping: minimap2<br>MINIMAP_THREADS: -t 4<br>MINIMAP_ARGS: -t 4 --secondary=no<br>MINIMAP_DB: refseq_viral.genome.fna.gz<br>MINIMAP_AX: map-ont<br>REMAP_REF: refseq_viral.genome.fna.gz<br>MINIMAP_QCF: 0",
          "node: 375<br>w: 0.11498<br>DESAMBA_DB: desamba/virosaurus<br>DESAMBA_QFC: 20<br>Remapping: minimap2<br>MINIMAP_THREADS: -t 4<br>MINIMAP_ARGS: -t 4 --secondary=no<br>MINIMAP_DB: refseq_viral.genome.fna.gz<br>MINIMAP_AX: map-ont<br>REMAP_REF: refseq_viral.genome.fna.gz<br>MINIMAP_QCF: 0",
          "node: 292<br>w: 0.08875<br>Read classification: kaiju<br>KAIJU_ARGS: -e 3 -s 70 -X -v -a \"mem\"<br>KAIJU_DB: kaiju/viral/kaiju_db_viruses.fmi<br>KAIJU_THREADS: 4<br>Remapping: minimap2<br>MINIMAP_THREADS: -t 4<br>MINIMAP_ARGS: -t 4 --secondary=no<br>MINIMAP_DB: refseq_viral.genome.fna.gz<br>MINIMAP_AX: map-ont<br>REMAP_REF: refseq_viral.genome.fna.gz<br>MINIMAP_QCF: 0",
          "node: 293<br>w: 0.345<br>Read classification: centrifuge<br>CENTRIFUGE_ARGS: --min-hitlen 22<br>CENTRIFUGE_THREADS: 4<br>CENTRIFUGE_DB: centrifuge/viral/index<br>Remapping: minimap2<br>MINIMAP_THREADS: -t 4<br>MINIMAP_ARGS: -t 4 --secondary=no<br>MINIMAP_DB: refseq_viral.genome.fna.gz<br>MINIMAP_AX: map-ont<br>REMAP_REF: refseq_viral.genome.fna.gz<br>MINIMAP_QCF: 0",
          "node: 294<br>w: 0.3022<br>Read classification: diamond<br>DIAMOND_ARGS: --top 3 -e 0.01 --id 70 --query-cover 60 --algo 0 --very-sensitive --long-reads<br>DIAMOND_DB: diamond/refseq_prot<br>DIAMOND_THREADS: 4<br>Remapping: minimap2<br>MINIMAP_THREADS: -t 4<br>MINIMAP_ARGS: -t 4 --secondary=no<br>MINIMAP_DB: refseq_viral.genome.fna.gz<br>MINIMAP_AX: map-ont<br>REMAP_REF: refseq_viral.genome.fna.gz<br>MINIMAP_QCF: 0",
          "node: 3<br>w: 0.2507<br>Viral enrichment: krakenuniq<br>KRAKENUNIQ_ARGS: --quick --min-hits 1<br>KRAKENUNIQ_THREADS: 8<br>KRAKENUNIQ_DB: kuniq/viral/<br>Assembly: raven<br>RAVEN_ARGS: -p2 -f0.001 -w5 -k15<br>ASSEMBLY_LTRIM: 50",
          "node: 428<br>w: 0.25578<br>Contig classification: blast<br>BLAST_ARGS: -evalue 1e-5 -max_target_seqs 5<br>BLAST_DB: blast/NUC/refseq_viral_genome<br>BLAST_THREADS: 4",
          "node: 433<br>w: 0.33101<br>Read classification: krakenuniq",
          "node: 440<br>w: 0.33101<br>KRAKENUNIQ_ARGS: --exact<br>KRAKENUNIQ_THREADS: 8<br>KRAKENUNIQ_DB: kuniq/viral<br>Remapping: minimap2<br>MINIMAP_THREADS: -t 4<br>MINIMAP_ARGS: -t 4 --secondary=no<br>MINIMAP_DB: refseq_viral.genome.fna.gz<br>MINIMAP_AX: map-ont<br>REMAP_REF: refseq_viral.genome.fna.gz<br>MINIMAP_QCF: 0",
          "node: 441<br>w: 0.33101<br>KRAKENUNIQ_ARGS: --exact --hll-precision 14<br>KRAKENUNIQ_THREADS: 8<br>KRAKENUNIQ_DB: kuniq/viral<br>Remapping: minimap2<br>MINIMAP_THREADS: -t 4<br>MINIMAP_ARGS: -t 4 --secondary=no<br>MINIMAP_DB: refseq_viral.genome.fna.gz<br>MINIMAP_AX: map-ont<br>REMAP_REF: refseq_viral.genome.fna.gz<br>MINIMAP_QCF: 0",
          "node: 442<br>w: 0.33101<br>KRAKENUNIQ_ARGS: --hll-precision 14<br>KRAKENUNIQ_THREADS: 8<br>KRAKENUNIQ_DB: kuniq/viral<br>Remapping: minimap2<br>MINIMAP_THREADS: -t 4<br>MINIMAP_ARGS: -t 4 --secondary=no<br>MINIMAP_DB: refseq_viral.genome.fna.gz<br>MINIMAP_AX: map-ont<br>REMAP_REF: refseq_viral.genome.fna.gz<br>MINIMAP_QCF: 0",
          "node: 434<br>w: 0.24426<br>Read classification: fastviromeexplorer",
          "node: 470<br>w: 0.24426<br>FVE_ARGS: -cr 0.5 -co .5 -cn 10",
          "node: 472<br>w: 0.23139<br>FVE_DB: fve/refseq/refseq.idx<br>FVE_THREADS: 4<br>Remapping: minimap2<br>MINIMAP_THREADS: -t 4<br>MINIMAP_ARGS: -t 4 --secondary=no<br>MINIMAP_DB: refseq_viral.genome.fna.gz<br>MINIMAP_AX: map-ont<br>REMAP_REF: refseq_viral.genome.fna.gz<br>MINIMAP_QCF: 0",
          "node: 473<br>w: 0.25713<br>FVE_DB: fve/virosaurus/virosaurus.idx<br>FVE_THREADS: 4<br>Remapping: minimap2<br>MINIMAP_THREADS: -t 4<br>MINIMAP_ARGS: -t 4 --secondary=no<br>MINIMAP_DB: refseq_viral.genome.fna.gz<br>MINIMAP_AX: map-ont<br>REMAP_REF: refseq_viral.genome.fna.gz<br>MINIMAP_QCF: 0",
          "node: 471<br>w: 0.24426<br>FVE_ARGS: -cr 0.7 -co .7 -cn 15",
          "node: 490<br>w: 0.23139<br>FVE_DB: fve/refseq/refseq.idx<br>FVE_THREADS: 4<br>Remapping: minimap2<br>MINIMAP_THREADS: -t 4<br>MINIMAP_ARGS: -t 4 --secondary=no<br>MINIMAP_DB: refseq_viral.genome.fna.gz<br>MINIMAP_AX: map-ont<br>REMAP_REF: refseq_viral.genome.fna.gz<br>MINIMAP_QCF: 0",
          "node: 491<br>w: 0.25713<br>FVE_DB: fve/virosaurus/virosaurus.idx<br>FVE_THREADS: 4<br>Remapping: minimap2<br>MINIMAP_THREADS: -t 4<br>MINIMAP_ARGS: -t 4 --secondary=no<br>MINIMAP_DB: refseq_viral.genome.fna.gz<br>MINIMAP_AX: map-ont<br>REMAP_REF: refseq_viral.genome.fna.gz<br>MINIMAP_QCF: 0",
          "node: 435<br>w: 0.15856<br>Read classification: clark<br>CLARK_ARGS: -m 1 --light<br>CLARK_THREADS: 8<br>CLARK_DB: clark/viruses<br>Remapping: minimap2<br>MINIMAP_THREADS: -t 4<br>MINIMAP_ARGS: -t 4 --secondary=no<br>MINIMAP_DB: refseq_viral.genome.fna.gz<br>MINIMAP_AX: map-ont<br>REMAP_REF: refseq_viral.genome.fna.gz<br>MINIMAP_QCF: 0",
          "node: 436<br>w: 0.27687<br>Read classification: desamba<br>DESAMBA_ARGS: ",
          "node: 519<br>w: 0.29367<br>DESAMBA_DB: desamba/refseq<br>DESAMBA_QFC: 20<br>Remapping: minimap2<br>MINIMAP_THREADS: -t 4<br>MINIMAP_ARGS: -t 4 --secondary=no<br>MINIMAP_DB: refseq_viral.genome.fna.gz<br>MINIMAP_AX: map-ont<br>REMAP_REF: refseq_viral.genome.fna.gz<br>MINIMAP_QCF: 0",
          "node: 520<br>w: 0.26008<br>DESAMBA_DB: desamba/virosaurus<br>DESAMBA_QFC: 20<br>Remapping: minimap2<br>MINIMAP_THREADS: -t 4<br>MINIMAP_ARGS: -t 4 --secondary=no<br>MINIMAP_DB: refseq_viral.genome.fna.gz<br>MINIMAP_AX: map-ont<br>REMAP_REF: refseq_viral.genome.fna.gz<br>MINIMAP_QCF: 0",
          "node: 437<br>w: 0.11845<br>Read classification: kaiju<br>KAIJU_ARGS: -e 3 -s 70 -X -v -a \"mem\"<br>KAIJU_DB: kaiju/viral/kaiju_db_viruses.fmi<br>KAIJU_THREADS: 4<br>Remapping: minimap2<br>MINIMAP_THREADS: -t 4<br>MINIMAP_ARGS: -t 4 --secondary=no<br>MINIMAP_DB: refseq_viral.genome.fna.gz<br>MINIMAP_AX: map-ont<br>REMAP_REF: refseq_viral.genome.fna.gz<br>MINIMAP_QCF: 0",
          "node: 438<br>w: 0.37629<br>Read classification: centrifuge<br>CENTRIFUGE_ARGS: --min-hitlen 22<br>CENTRIFUGE_THREADS: 4<br>CENTRIFUGE_DB: centrifuge/viral/index<br>Remapping: minimap2<br>MINIMAP_THREADS: -t 4<br>MINIMAP_ARGS: -t 4 --secondary=no<br>MINIMAP_DB: refseq_viral.genome.fna.gz<br>MINIMAP_AX: map-ont<br>REMAP_REF: refseq_viral.genome.fna.gz<br>MINIMAP_QCF: 0",
          "node: 439<br>w: 0.28503<br>Read classification: diamond<br>DIAMOND_ARGS: --top 3 -e 0.01 --id 70 --query-cover 60 --algo 0 --very-sensitive --long-reads<br>DIAMOND_DB: diamond/refseq_prot<br>DIAMOND_THREADS: 4<br>Remapping: minimap2<br>MINIMAP_THREADS: -t 4<br>MINIMAP_ARGS: -t 4 --secondary=no<br>MINIMAP_DB: refseq_viral.genome.fna.gz<br>MINIMAP_AX: map-ont<br>REMAP_REF: refseq_viral.genome.fna.gz<br>MINIMAP_QCF: 0",
          "node: 429<br>w: 0.24563<br>Contig classification: minimap2<br>MINIMAP2_ARGS: <br>MINIMAP2_QCF: 20",
          "node: 569<br>w: 0.27444<br>MINIMAP2_DB: refseq_viral.genome.fna.gz",
          "node: 571<br>w: 0.33552<br>Read classification: krakenuniq",
          "node: 578<br>w: 0.33552<br>KRAKENUNIQ_ARGS: --exact<br>KRAKENUNIQ_THREADS: 8<br>KRAKENUNIQ_DB: kuniq/viral<br>Remapping: minimap2<br>MINIMAP_THREADS: -t 4<br>MINIMAP_ARGS: -t 4 --secondary=no<br>MINIMAP_DB: refseq_viral.genome.fna.gz<br>MINIMAP_AX: map-ont<br>REMAP_REF: refseq_viral.genome.fna.gz<br>MINIMAP_QCF: 0",
          "node: 579<br>w: 0.33552<br>KRAKENUNIQ_ARGS: --exact --hll-precision 14<br>KRAKENUNIQ_THREADS: 8<br>KRAKENUNIQ_DB: kuniq/viral<br>Remapping: minimap2<br>MINIMAP_THREADS: -t 4<br>MINIMAP_ARGS: -t 4 --secondary=no<br>MINIMAP_DB: refseq_viral.genome.fna.gz<br>MINIMAP_AX: map-ont<br>REMAP_REF: refseq_viral.genome.fna.gz<br>MINIMAP_QCF: 0",
          "node: 580<br>w: 0.33552<br>KRAKENUNIQ_ARGS: --hll-precision 14<br>KRAKENUNIQ_THREADS: 8<br>KRAKENUNIQ_DB: kuniq/viral<br>Remapping: minimap2<br>MINIMAP_THREADS: -t 4<br>MINIMAP_ARGS: -t 4 --secondary=no<br>MINIMAP_DB: refseq_viral.genome.fna.gz<br>MINIMAP_AX: map-ont<br>REMAP_REF: refseq_viral.genome.fna.gz<br>MINIMAP_QCF: 0",
          "node: 572<br>w: 0.23586<br>Read classification: fastviromeexplorer",
          "node: 608<br>w: 0.23586<br>FVE_ARGS: -cr 0.5 -co .5 -cn 10",
          "node: 610<br>w: 0.22379<br>FVE_DB: fve/refseq/refseq.idx<br>FVE_THREADS: 4<br>Remapping: minimap2<br>MINIMAP_THREADS: -t 4<br>MINIMAP_ARGS: -t 4 --secondary=no<br>MINIMAP_DB: refseq_viral.genome.fna.gz<br>MINIMAP_AX: map-ont<br>REMAP_REF: refseq_viral.genome.fna.gz<br>MINIMAP_QCF: 0",
          "node: 611<br>w: 0.24793<br>FVE_DB: fve/virosaurus/virosaurus.idx<br>FVE_THREADS: 4<br>Remapping: minimap2<br>MINIMAP_THREADS: -t 4<br>MINIMAP_ARGS: -t 4 --secondary=no<br>MINIMAP_DB: refseq_viral.genome.fna.gz<br>MINIMAP_AX: map-ont<br>REMAP_REF: refseq_viral.genome.fna.gz<br>MINIMAP_QCF: 0",
          "node: 609<br>w: 0.23586<br>FVE_ARGS: -cr 0.7 -co .7 -cn 15",
          "node: 628<br>w: 0.22379<br>FVE_DB: fve/refseq/refseq.idx<br>FVE_THREADS: 4<br>Remapping: minimap2<br>MINIMAP_THREADS: -t 4<br>MINIMAP_ARGS: -t 4 --secondary=no<br>MINIMAP_DB: refseq_viral.genome.fna.gz<br>MINIMAP_AX: map-ont<br>REMAP_REF: refseq_viral.genome.fna.gz<br>MINIMAP_QCF: 0",
          "node: 629<br>w: 0.24793<br>FVE_DB: fve/virosaurus/virosaurus.idx<br>FVE_THREADS: 4<br>Remapping: minimap2<br>MINIMAP_THREADS: -t 4<br>MINIMAP_ARGS: -t 4 --secondary=no<br>MINIMAP_DB: refseq_viral.genome.fna.gz<br>MINIMAP_AX: map-ont<br>REMAP_REF: refseq_viral.genome.fna.gz<br>MINIMAP_QCF: 0",
          "node: 573<br>w: 0.27986<br>Read classification: clark<br>CLARK_ARGS: -m 1 --light<br>CLARK_THREADS: 8<br>CLARK_DB: clark/viruses<br>Remapping: minimap2<br>MINIMAP_THREADS: -t 4<br>MINIMAP_ARGS: -t 4 --secondary=no<br>MINIMAP_DB: refseq_viral.genome.fna.gz<br>MINIMAP_AX: map-ont<br>REMAP_REF: refseq_viral.genome.fna.gz<br>MINIMAP_QCF: 0",
          "node: 574<br>w: 0.26676<br>Read classification: desamba<br>DESAMBA_ARGS: ",
          "node: 657<br>w: 0.27528<br>DESAMBA_DB: desamba/refseq<br>DESAMBA_QFC: 20<br>Remapping: minimap2<br>MINIMAP_THREADS: -t 4<br>MINIMAP_ARGS: -t 4 --secondary=no<br>MINIMAP_DB: refseq_viral.genome.fna.gz<br>MINIMAP_AX: map-ont<br>REMAP_REF: refseq_viral.genome.fna.gz<br>MINIMAP_QCF: 0",
          "node: 658<br>w: 0.25824<br>DESAMBA_DB: desamba/virosaurus<br>DESAMBA_QFC: 20<br>Remapping: minimap2<br>MINIMAP_THREADS: -t 4<br>MINIMAP_ARGS: -t 4 --secondary=no<br>MINIMAP_DB: refseq_viral.genome.fna.gz<br>MINIMAP_AX: map-ont<br>REMAP_REF: refseq_viral.genome.fna.gz<br>MINIMAP_QCF: 0",
          "node: 575<br>w: 0.12561<br>Read classification: kaiju<br>KAIJU_ARGS: -e 3 -s 70 -X -v -a \"mem\"<br>KAIJU_DB: kaiju/viral/kaiju_db_viruses.fmi<br>KAIJU_THREADS: 4<br>Remapping: minimap2<br>MINIMAP_THREADS: -t 4<br>MINIMAP_ARGS: -t 4 --secondary=no<br>MINIMAP_DB: refseq_viral.genome.fna.gz<br>MINIMAP_AX: map-ont<br>REMAP_REF: refseq_viral.genome.fna.gz<br>MINIMAP_QCF: 0",
          "node: 576<br>w: 0.37766<br>Read classification: centrifuge<br>CENTRIFUGE_ARGS: --min-hitlen 22<br>CENTRIFUGE_THREADS: 4<br>CENTRIFUGE_DB: centrifuge/viral/index<br>Remapping: minimap2<br>MINIMAP_THREADS: -t 4<br>MINIMAP_ARGS: -t 4 --secondary=no<br>MINIMAP_DB: refseq_viral.genome.fna.gz<br>MINIMAP_AX: map-ont<br>REMAP_REF: refseq_viral.genome.fna.gz<br>MINIMAP_QCF: 0",
          "node: 577<br>w: 0.29979<br>Read classification: diamond<br>DIAMOND_ARGS: --top 3 -e 0.01 --id 70 --query-cover 60 --algo 0 --very-sensitive --long-reads<br>DIAMOND_DB: diamond/refseq_prot<br>DIAMOND_THREADS: 4<br>Remapping: minimap2<br>MINIMAP_THREADS: -t 4<br>MINIMAP_ARGS: -t 4 --secondary=no<br>MINIMAP_DB: refseq_viral.genome.fna.gz<br>MINIMAP_AX: map-ont<br>REMAP_REF: refseq_viral.genome.fna.gz<br>MINIMAP_QCF: 0",
          "node: 570<br>w: 0.21681<br>MINIMAP2_DB: virosaurus90_vertebrate-20200330.fas.gz",
          "node: 705<br>w: 0.30339<br>Read classification: krakenuniq",
          "node: 712<br>w: 0.30339<br>KRAKENUNIQ_ARGS: --exact<br>KRAKENUNIQ_THREADS: 8<br>KRAKENUNIQ_DB: kuniq/viral<br>Remapping: minimap2<br>MINIMAP_THREADS: -t 4<br>MINIMAP_ARGS: -t 4 --secondary=no<br>MINIMAP_DB: refseq_viral.genome.fna.gz<br>MINIMAP_AX: map-ont<br>REMAP_REF: refseq_viral.genome.fna.gz<br>MINIMAP_QCF: 0",
          "node: 713<br>w: 0.30339<br>KRAKENUNIQ_ARGS: --exact --hll-precision 14<br>KRAKENUNIQ_THREADS: 8<br>KRAKENUNIQ_DB: kuniq/viral<br>Remapping: minimap2<br>MINIMAP_THREADS: -t 4<br>MINIMAP_ARGS: -t 4 --secondary=no<br>MINIMAP_DB: refseq_viral.genome.fna.gz<br>MINIMAP_AX: map-ont<br>REMAP_REF: refseq_viral.genome.fna.gz<br>MINIMAP_QCF: 0",
          "node: 714<br>w: 0.30339<br>KRAKENUNIQ_ARGS: --hll-precision 14<br>KRAKENUNIQ_THREADS: 8<br>KRAKENUNIQ_DB: kuniq/viral<br>Remapping: minimap2<br>MINIMAP_THREADS: -t 4<br>MINIMAP_ARGS: -t 4 --secondary=no<br>MINIMAP_DB: refseq_viral.genome.fna.gz<br>MINIMAP_AX: map-ont<br>REMAP_REF: refseq_viral.genome.fna.gz<br>MINIMAP_QCF: 0",
          "node: 706<br>w: 0.16882<br>Read classification: fastviromeexplorer",
          "node: 742<br>w: 0.16882<br>FVE_ARGS: -cr 0.5 -co .5 -cn 10",
          "node: 744<br>w: 0.21964<br>FVE_DB: fve/refseq/refseq.idx<br>FVE_THREADS: 4<br>Remapping: minimap2<br>MINIMAP_THREADS: -t 4<br>MINIMAP_ARGS: -t 4 --secondary=no<br>MINIMAP_DB: refseq_viral.genome.fna.gz<br>MINIMAP_AX: map-ont<br>REMAP_REF: refseq_viral.genome.fna.gz<br>MINIMAP_QCF: 0",
          "node: 745<br>w: 0.11799<br>FVE_DB: fve/virosaurus/virosaurus.idx<br>FVE_THREADS: 4<br>Remapping: minimap2<br>MINIMAP_THREADS: -t 4<br>MINIMAP_ARGS: -t 4 --secondary=no<br>MINIMAP_DB: refseq_viral.genome.fna.gz<br>MINIMAP_AX: map-ont<br>REMAP_REF: refseq_viral.genome.fna.gz<br>MINIMAP_QCF: 0",
          "node: 743<br>w: 0.16882<br>FVE_ARGS: -cr 0.7 -co .7 -cn 15",
          "node: 762<br>w: 0.21964<br>FVE_DB: fve/refseq/refseq.idx<br>FVE_THREADS: 4<br>Remapping: minimap2<br>MINIMAP_THREADS: -t 4<br>MINIMAP_ARGS: -t 4 --secondary=no<br>MINIMAP_DB: refseq_viral.genome.fna.gz<br>MINIMAP_AX: map-ont<br>REMAP_REF: refseq_viral.genome.fna.gz<br>MINIMAP_QCF: 0",
          "node: 763<br>w: 0.11799<br>FVE_DB: fve/virosaurus/virosaurus.idx<br>FVE_THREADS: 4<br>Remapping: minimap2<br>MINIMAP_THREADS: -t 4<br>MINIMAP_ARGS: -t 4 --secondary=no<br>MINIMAP_DB: refseq_viral.genome.fna.gz<br>MINIMAP_AX: map-ont<br>REMAP_REF: refseq_viral.genome.fna.gz<br>MINIMAP_QCF: 0",
          "node: 707<br>w: 0.13719<br>Read classification: clark<br>CLARK_ARGS: -m 1 --light<br>CLARK_THREADS: 8<br>CLARK_DB: clark/viruses<br>Remapping: minimap2<br>MINIMAP_THREADS: -t 4<br>MINIMAP_ARGS: -t 4 --secondary=no<br>MINIMAP_DB: refseq_viral.genome.fna.gz<br>MINIMAP_AX: map-ont<br>REMAP_REF: refseq_viral.genome.fna.gz<br>MINIMAP_QCF: 0",
          "node: 708<br>w: 0.19326<br>Read classification: desamba<br>DESAMBA_ARGS: ",
          "node: 791<br>w: 0.27155<br>DESAMBA_DB: desamba/refseq<br>DESAMBA_QFC: 20<br>Remapping: minimap2<br>MINIMAP_THREADS: -t 4<br>MINIMAP_ARGS: -t 4 --secondary=no<br>MINIMAP_DB: refseq_viral.genome.fna.gz<br>MINIMAP_AX: map-ont<br>REMAP_REF: refseq_viral.genome.fna.gz<br>MINIMAP_QCF: 0",
          "node: 792<br>w: 0.11498<br>DESAMBA_DB: desamba/virosaurus<br>DESAMBA_QFC: 20<br>Remapping: minimap2<br>MINIMAP_THREADS: -t 4<br>MINIMAP_ARGS: -t 4 --secondary=no<br>MINIMAP_DB: refseq_viral.genome.fna.gz<br>MINIMAP_AX: map-ont<br>REMAP_REF: refseq_viral.genome.fna.gz<br>MINIMAP_QCF: 0",
          "node: 709<br>w: 0.06783<br>Read classification: kaiju<br>KAIJU_ARGS: -e 3 -s 70 -X -v -a \"mem\"<br>KAIJU_DB: kaiju/viral/kaiju_db_viruses.fmi<br>KAIJU_THREADS: 4<br>Remapping: minimap2<br>MINIMAP_THREADS: -t 4<br>MINIMAP_ARGS: -t 4 --secondary=no<br>MINIMAP_DB: refseq_viral.genome.fna.gz<br>MINIMAP_AX: map-ont<br>REMAP_REF: refseq_viral.genome.fna.gz<br>MINIMAP_QCF: 0",
          "node: 710<br>w: 0.345<br>Read classification: centrifuge<br>CENTRIFUGE_ARGS: --min-hitlen 22<br>CENTRIFUGE_THREADS: 4<br>CENTRIFUGE_DB: centrifuge/viral/index<br>Remapping: minimap2<br>MINIMAP_THREADS: -t 4<br>MINIMAP_ARGS: -t 4 --secondary=no<br>MINIMAP_DB: refseq_viral.genome.fna.gz<br>MINIMAP_AX: map-ont<br>REMAP_REF: refseq_viral.genome.fna.gz<br>MINIMAP_QCF: 0",
          "node: 711<br>w: 0.3022<br>Read classification: diamond<br>DIAMOND_ARGS: --top 3 -e 0.01 --id 70 --query-cover 60 --algo 0 --very-sensitive --long-reads<br>DIAMOND_DB: diamond/refseq_prot<br>DIAMOND_THREADS: 4<br>Remapping: minimap2<br>MINIMAP_THREADS: -t 4<br>MINIMAP_ARGS: -t 4 --secondary=no<br>MINIMAP_DB: refseq_viral.genome.fna.gz<br>MINIMAP_AX: map-ont<br>REMAP_REF: refseq_viral.genome.fna.gz<br>MINIMAP_QCF: 0",
          "node: 4<br>w: 0.25587<br>Viral enrichment: centrifuge<br>CENTRIFUGE_ARGS: -k 5 --min-hitlen 16<br>CENTRIFUGE_THREADS: 4<br>CENTRIFUGE_DB: centrifuge/viral/index<br>Assembly: raven<br>RAVEN_ARGS: -p2 -f0.001 -w5 -k15<br>ASSEMBLY_LTRIM: 50",
          "node: 845<br>w: 0.25384<br>Contig classification: blast<br>BLAST_ARGS: -evalue 1e-5 -max_target_seqs 5<br>BLAST_DB: blast/NUC/refseq_viral_genome<br>BLAST_THREADS: 4",
          "node: 850<br>w: 0.31263<br>Read classification: krakenuniq",
          "node: 857<br>w: 0.31263<br>KRAKENUNIQ_ARGS: --exact<br>KRAKENUNIQ_THREADS: 8<br>KRAKENUNIQ_DB: kuniq/viral<br>Remapping: minimap2<br>MINIMAP_THREADS: -t 4<br>MINIMAP_ARGS: -t 4 --secondary=no<br>MINIMAP_DB: refseq_viral.genome.fna.gz<br>MINIMAP_AX: map-ont<br>REMAP_REF: refseq_viral.genome.fna.gz<br>MINIMAP_QCF: 0",
          "node: 858<br>w: 0.31263<br>KRAKENUNIQ_ARGS: --exact --hll-precision 14<br>KRAKENUNIQ_THREADS: 8<br>KRAKENUNIQ_DB: kuniq/viral<br>Remapping: minimap2<br>MINIMAP_THREADS: -t 4<br>MINIMAP_ARGS: -t 4 --secondary=no<br>MINIMAP_DB: refseq_viral.genome.fna.gz<br>MINIMAP_AX: map-ont<br>REMAP_REF: refseq_viral.genome.fna.gz<br>MINIMAP_QCF: 0",
          "node: 859<br>w: 0.31263<br>KRAKENUNIQ_ARGS: --hll-precision 14<br>KRAKENUNIQ_THREADS: 8<br>KRAKENUNIQ_DB: kuniq/viral<br>Remapping: minimap2<br>MINIMAP_THREADS: -t 4<br>MINIMAP_ARGS: -t 4 --secondary=no<br>MINIMAP_DB: refseq_viral.genome.fna.gz<br>MINIMAP_AX: map-ont<br>REMAP_REF: refseq_viral.genome.fna.gz<br>MINIMAP_QCF: 0",
          "node: 851<br>w: 0.25238<br>Read classification: fastviromeexplorer",
          "node: 887<br>w: 0.25238<br>FVE_ARGS: -cr 0.5 -co .5 -cn 10",
          "node: 889<br>w: 0.26293<br>FVE_DB: fve/refseq/refseq.idx<br>FVE_THREADS: 4<br>Remapping: minimap2<br>MINIMAP_THREADS: -t 4<br>MINIMAP_ARGS: -t 4 --secondary=no<br>MINIMAP_DB: refseq_viral.genome.fna.gz<br>MINIMAP_AX: map-ont<br>REMAP_REF: refseq_viral.genome.fna.gz<br>MINIMAP_QCF: 0",
          "node: 890<br>w: 0.24183<br>FVE_DB: fve/virosaurus/virosaurus.idx<br>FVE_THREADS: 4<br>Remapping: minimap2<br>MINIMAP_THREADS: -t 4<br>MINIMAP_ARGS: -t 4 --secondary=no<br>MINIMAP_DB: refseq_viral.genome.fna.gz<br>MINIMAP_AX: map-ont<br>REMAP_REF: refseq_viral.genome.fna.gz<br>MINIMAP_QCF: 0",
          "node: 888<br>w: 0.25238<br>FVE_ARGS: -cr 0.7 -co .7 -cn 15",
          "node: 907<br>w: 0.26293<br>FVE_DB: fve/refseq/refseq.idx<br>FVE_THREADS: 4<br>Remapping: minimap2<br>MINIMAP_THREADS: -t 4<br>MINIMAP_ARGS: -t 4 --secondary=no<br>MINIMAP_DB: refseq_viral.genome.fna.gz<br>MINIMAP_AX: map-ont<br>REMAP_REF: refseq_viral.genome.fna.gz<br>MINIMAP_QCF: 0",
          "node: 908<br>w: 0.24183<br>FVE_DB: fve/virosaurus/virosaurus.idx<br>FVE_THREADS: 4<br>Remapping: minimap2<br>MINIMAP_THREADS: -t 4<br>MINIMAP_ARGS: -t 4 --secondary=no<br>MINIMAP_DB: refseq_viral.genome.fna.gz<br>MINIMAP_AX: map-ont<br>REMAP_REF: refseq_viral.genome.fna.gz<br>MINIMAP_QCF: 0",
          "node: 852<br>w: 0.16153<br>Read classification: clark<br>CLARK_ARGS: -m 1 --light<br>CLARK_THREADS: 8<br>CLARK_DB: clark/viruses<br>Remapping: minimap2<br>MINIMAP_THREADS: -t 4<br>MINIMAP_ARGS: -t 4 --secondary=no<br>MINIMAP_DB: refseq_viral.genome.fna.gz<br>MINIMAP_AX: map-ont<br>REMAP_REF: refseq_viral.genome.fna.gz<br>MINIMAP_QCF: 0",
          "node: 853<br>w: 0.26597<br>Read classification: desamba<br>DESAMBA_ARGS: ",
          "node: 936<br>w: 0.25908<br>DESAMBA_DB: desamba/refseq<br>DESAMBA_QFC: 20<br>Remapping: minimap2<br>MINIMAP_THREADS: -t 4<br>MINIMAP_ARGS: -t 4 --secondary=no<br>MINIMAP_DB: refseq_viral.genome.fna.gz<br>MINIMAP_AX: map-ont<br>REMAP_REF: refseq_viral.genome.fna.gz<br>MINIMAP_QCF: 0",
          "node: 937<br>w: 0.27286<br>DESAMBA_DB: desamba/virosaurus<br>DESAMBA_QFC: 20<br>Remapping: minimap2<br>MINIMAP_THREADS: -t 4<br>MINIMAP_ARGS: -t 4 --secondary=no<br>MINIMAP_DB: refseq_viral.genome.fna.gz<br>MINIMAP_AX: map-ont<br>REMAP_REF: refseq_viral.genome.fna.gz<br>MINIMAP_QCF: 0",
          "node: 854<br>w: 0.14245<br>Read classification: kaiju<br>KAIJU_ARGS: -e 3 -s 70 -X -v -a \"mem\"<br>KAIJU_DB: kaiju/viral/kaiju_db_viruses.fmi<br>KAIJU_THREADS: 4<br>Remapping: minimap2<br>MINIMAP_THREADS: -t 4<br>MINIMAP_ARGS: -t 4 --secondary=no<br>MINIMAP_DB: refseq_viral.genome.fna.gz<br>MINIMAP_AX: map-ont<br>REMAP_REF: refseq_viral.genome.fna.gz<br>MINIMAP_QCF: 0",
          "node: 855<br>w: 0.35478<br>Read classification: centrifuge<br>CENTRIFUGE_ARGS: --min-hitlen 22<br>CENTRIFUGE_THREADS: 4<br>CENTRIFUGE_DB: centrifuge/viral/index<br>Remapping: minimap2<br>MINIMAP_THREADS: -t 4<br>MINIMAP_ARGS: -t 4 --secondary=no<br>MINIMAP_DB: refseq_viral.genome.fna.gz<br>MINIMAP_AX: map-ont<br>REMAP_REF: refseq_viral.genome.fna.gz<br>MINIMAP_QCF: 0",
          "node: 856<br>w: 0.2871<br>Read classification: diamond<br>DIAMOND_ARGS: --top 3 -e 0.01 --id 70 --query-cover 60 --algo 0 --very-sensitive --long-reads<br>DIAMOND_DB: diamond/refseq_prot<br>DIAMOND_THREADS: 4<br>Remapping: minimap2<br>MINIMAP_THREADS: -t 4<br>MINIMAP_ARGS: -t 4 --secondary=no<br>MINIMAP_DB: refseq_viral.genome.fna.gz<br>MINIMAP_AX: map-ont<br>REMAP_REF: refseq_viral.genome.fna.gz<br>MINIMAP_QCF: 0",
          "node: 846<br>w: 0.2579<br>Contig classification: minimap2<br>MINIMAP2_ARGS: <br>MINIMAP2_QCF: 20",
          "node: 986<br>w: 0.29312<br>MINIMAP2_DB: refseq_viral.genome.fna.gz",
          "node: 988<br>w: 0.33552<br>Read classification: krakenuniq",
          "node: 995<br>w: 0.33552<br>KRAKENUNIQ_ARGS: --exact<br>KRAKENUNIQ_THREADS: 8<br>KRAKENUNIQ_DB: kuniq/viral<br>Remapping: minimap2<br>MINIMAP_THREADS: -t 4<br>MINIMAP_ARGS: -t 4 --secondary=no<br>MINIMAP_DB: refseq_viral.genome.fna.gz<br>MINIMAP_AX: map-ont<br>REMAP_REF: refseq_viral.genome.fna.gz<br>MINIMAP_QCF: 0",
          "node: 996<br>w: 0.33552<br>KRAKENUNIQ_ARGS: --exact --hll-precision 14<br>KRAKENUNIQ_THREADS: 8<br>KRAKENUNIQ_DB: kuniq/viral<br>Remapping: minimap2<br>MINIMAP_THREADS: -t 4<br>MINIMAP_ARGS: -t 4 --secondary=no<br>MINIMAP_DB: refseq_viral.genome.fna.gz<br>MINIMAP_AX: map-ont<br>REMAP_REF: refseq_viral.genome.fna.gz<br>MINIMAP_QCF: 0",
          "node: 997<br>w: 0.33552<br>KRAKENUNIQ_ARGS: --hll-precision 14<br>KRAKENUNIQ_THREADS: 8<br>KRAKENUNIQ_DB: kuniq/viral<br>Remapping: minimap2<br>MINIMAP_THREADS: -t 4<br>MINIMAP_ARGS: -t 4 --secondary=no<br>MINIMAP_DB: refseq_viral.genome.fna.gz<br>MINIMAP_AX: map-ont<br>REMAP_REF: refseq_viral.genome.fna.gz<br>MINIMAP_QCF: 0",
          "node: 989<br>w: 0.26033<br>Read classification: fastviromeexplorer",
          "node: 1025<br>w: 0.26033<br>FVE_ARGS: -cr 0.5 -co .5 -cn 10",
          "node: 1027<br>w: 0.27149<br>FVE_DB: fve/refseq/refseq.idx<br>FVE_THREADS: 4<br>Remapping: minimap2<br>MINIMAP_THREADS: -t 4<br>MINIMAP_ARGS: -t 4 --secondary=no<br>MINIMAP_DB: refseq_viral.genome.fna.gz<br>MINIMAP_AX: map-ont<br>REMAP_REF: refseq_viral.genome.fna.gz<br>MINIMAP_QCF: 0",
          "node: 1028<br>w: 0.24918<br>FVE_DB: fve/virosaurus/virosaurus.idx<br>FVE_THREADS: 4<br>Remapping: minimap2<br>MINIMAP_THREADS: -t 4<br>MINIMAP_ARGS: -t 4 --secondary=no<br>MINIMAP_DB: refseq_viral.genome.fna.gz<br>MINIMAP_AX: map-ont<br>REMAP_REF: refseq_viral.genome.fna.gz<br>MINIMAP_QCF: 0",
          "node: 1026<br>w: 0.26033<br>FVE_ARGS: -cr 0.7 -co .7 -cn 15",
          "node: 1045<br>w: 0.27149<br>FVE_DB: fve/refseq/refseq.idx<br>FVE_THREADS: 4<br>Remapping: minimap2<br>MINIMAP_THREADS: -t 4<br>MINIMAP_ARGS: -t 4 --secondary=no<br>MINIMAP_DB: refseq_viral.genome.fna.gz<br>MINIMAP_AX: map-ont<br>REMAP_REF: refseq_viral.genome.fna.gz<br>MINIMAP_QCF: 0",
          "node: 1046<br>w: 0.24918<br>FVE_DB: fve/virosaurus/virosaurus.idx<br>FVE_THREADS: 4<br>Remapping: minimap2<br>MINIMAP_THREADS: -t 4<br>MINIMAP_ARGS: -t 4 --secondary=no<br>MINIMAP_DB: refseq_viral.genome.fna.gz<br>MINIMAP_AX: map-ont<br>REMAP_REF: refseq_viral.genome.fna.gz<br>MINIMAP_QCF: 0",
          "node: 990<br>w: 0.34106<br>Read classification: clark<br>CLARK_ARGS: -m 1 --light<br>CLARK_THREADS: 8<br>CLARK_DB: clark/viruses<br>Remapping: minimap2<br>MINIMAP_THREADS: -t 4<br>MINIMAP_ARGS: -t 4 --secondary=no<br>MINIMAP_DB: refseq_viral.genome.fna.gz<br>MINIMAP_AX: map-ont<br>REMAP_REF: refseq_viral.genome.fna.gz<br>MINIMAP_QCF: 0",
          "node: 991<br>w: 0.2751<br>Read classification: desamba<br>DESAMBA_ARGS: ",
          "node: 1074<br>w: 0.26413<br>DESAMBA_DB: desamba/refseq<br>DESAMBA_QFC: 20<br>Remapping: minimap2<br>MINIMAP_THREADS: -t 4<br>MINIMAP_ARGS: -t 4 --secondary=no<br>MINIMAP_DB: refseq_viral.genome.fna.gz<br>MINIMAP_AX: map-ont<br>REMAP_REF: refseq_viral.genome.fna.gz<br>MINIMAP_QCF: 0",
          "node: 1075<br>w: 0.28606<br>DESAMBA_DB: desamba/virosaurus<br>DESAMBA_QFC: 20<br>Remapping: minimap2<br>MINIMAP_THREADS: -t 4<br>MINIMAP_ARGS: -t 4 --secondary=no<br>MINIMAP_DB: refseq_viral.genome.fna.gz<br>MINIMAP_AX: map-ont<br>REMAP_REF: refseq_viral.genome.fna.gz<br>MINIMAP_QCF: 0",
          "node: 992<br>w: 0.15934<br>Read classification: kaiju<br>KAIJU_ARGS: -e 3 -s 70 -X -v -a \"mem\"<br>KAIJU_DB: kaiju/viral/kaiju_db_viruses.fmi<br>KAIJU_THREADS: 4<br>Remapping: minimap2<br>MINIMAP_THREADS: -t 4<br>MINIMAP_ARGS: -t 4 --secondary=no<br>MINIMAP_DB: refseq_viral.genome.fna.gz<br>MINIMAP_AX: map-ont<br>REMAP_REF: refseq_viral.genome.fna.gz<br>MINIMAP_QCF: 0",
          "node: 993<br>w: 0.37693<br>Read classification: centrifuge<br>CENTRIFUGE_ARGS: --min-hitlen 22<br>CENTRIFUGE_THREADS: 4<br>CENTRIFUGE_DB: centrifuge/viral/index<br>Remapping: minimap2<br>MINIMAP_THREADS: -t 4<br>MINIMAP_ARGS: -t 4 --secondary=no<br>MINIMAP_DB: refseq_viral.genome.fna.gz<br>MINIMAP_AX: map-ont<br>REMAP_REF: refseq_viral.genome.fna.gz<br>MINIMAP_QCF: 0",
          "node: 994<br>w: 0.30358<br>Read classification: diamond<br>DIAMOND_ARGS: --top 3 -e 0.01 --id 70 --query-cover 60 --algo 0 --very-sensitive --long-reads<br>DIAMOND_DB: diamond/refseq_prot<br>DIAMOND_THREADS: 4<br>Remapping: minimap2<br>MINIMAP_THREADS: -t 4<br>MINIMAP_ARGS: -t 4 --secondary=no<br>MINIMAP_DB: refseq_viral.genome.fna.gz<br>MINIMAP_AX: map-ont<br>REMAP_REF: refseq_viral.genome.fna.gz<br>MINIMAP_QCF: 0",
          "node: 987<br>w: 0.22267<br>MINIMAP2_DB: virosaurus90_vertebrate-20200330.fas.gz",
          "node: 1122<br>w: 0.29925<br>Read classification: krakenuniq",
          "node: 1129<br>w: 0.29925<br>KRAKENUNIQ_ARGS: --exact<br>KRAKENUNIQ_THREADS: 8<br>KRAKENUNIQ_DB: kuniq/viral<br>Remapping: minimap2<br>MINIMAP_THREADS: -t 4<br>MINIMAP_ARGS: -t 4 --secondary=no<br>MINIMAP_DB: refseq_viral.genome.fna.gz<br>MINIMAP_AX: map-ont<br>REMAP_REF: refseq_viral.genome.fna.gz<br>MINIMAP_QCF: 0",
          "node: 1130<br>w: 0.29925<br>KRAKENUNIQ_ARGS: --exact --hll-precision 14<br>KRAKENUNIQ_THREADS: 8<br>KRAKENUNIQ_DB: kuniq/viral<br>Remapping: minimap2<br>MINIMAP_THREADS: -t 4<br>MINIMAP_ARGS: -t 4 --secondary=no<br>MINIMAP_DB: refseq_viral.genome.fna.gz<br>MINIMAP_AX: map-ont<br>REMAP_REF: refseq_viral.genome.fna.gz<br>MINIMAP_QCF: 0",
          "node: 1131<br>w: 0.29925<br>KRAKENUNIQ_ARGS: --hll-precision 14<br>KRAKENUNIQ_THREADS: 8<br>KRAKENUNIQ_DB: kuniq/viral<br>Remapping: minimap2<br>MINIMAP_THREADS: -t 4<br>MINIMAP_ARGS: -t 4 --secondary=no<br>MINIMAP_DB: refseq_viral.genome.fna.gz<br>MINIMAP_AX: map-ont<br>REMAP_REF: refseq_viral.genome.fna.gz<br>MINIMAP_QCF: 0",
          "node: 1123<br>w: 0.19789<br>Read classification: fastviromeexplorer",
          "node: 1159<br>w: 0.19789<br>FVE_ARGS: -cr 0.5 -co .5 -cn 10",
          "node: 1161<br>w: 0.27557<br>FVE_DB: fve/refseq/refseq.idx<br>FVE_THREADS: 4<br>Remapping: minimap2<br>MINIMAP_THREADS: -t 4<br>MINIMAP_ARGS: -t 4 --secondary=no<br>MINIMAP_DB: refseq_viral.genome.fna.gz<br>MINIMAP_AX: map-ont<br>REMAP_REF: refseq_viral.genome.fna.gz<br>MINIMAP_QCF: 0",
          "node: 1162<br>w: 0.1202<br>FVE_DB: fve/virosaurus/virosaurus.idx<br>FVE_THREADS: 4<br>Remapping: minimap2<br>MINIMAP_THREADS: -t 4<br>MINIMAP_ARGS: -t 4 --secondary=no<br>MINIMAP_DB: refseq_viral.genome.fna.gz<br>MINIMAP_AX: map-ont<br>REMAP_REF: refseq_viral.genome.fna.gz<br>MINIMAP_QCF: 0",
          "node: 1160<br>w: 0.19789<br>FVE_ARGS: -cr 0.7 -co .7 -cn 15",
          "node: 1179<br>w: 0.27557<br>FVE_DB: fve/refseq/refseq.idx<br>FVE_THREADS: 4<br>Remapping: minimap2<br>MINIMAP_THREADS: -t 4<br>MINIMAP_ARGS: -t 4 --secondary=no<br>MINIMAP_DB: refseq_viral.genome.fna.gz<br>MINIMAP_AX: map-ont<br>REMAP_REF: refseq_viral.genome.fna.gz<br>MINIMAP_QCF: 0",
          "node: 1180<br>w: 0.1202<br>FVE_DB: fve/virosaurus/virosaurus.idx<br>FVE_THREADS: 4<br>Remapping: minimap2<br>MINIMAP_THREADS: -t 4<br>MINIMAP_ARGS: -t 4 --secondary=no<br>MINIMAP_DB: refseq_viral.genome.fna.gz<br>MINIMAP_AX: map-ont<br>REMAP_REF: refseq_viral.genome.fna.gz<br>MINIMAP_QCF: 0",
          "node: 1124<br>w: 0.1533<br>Read classification: clark<br>CLARK_ARGS: -m 1 --light<br>CLARK_THREADS: 8<br>CLARK_DB: clark/viruses<br>Remapping: minimap2<br>MINIMAP_THREADS: -t 4<br>MINIMAP_ARGS: -t 4 --secondary=no<br>MINIMAP_DB: refseq_viral.genome.fna.gz<br>MINIMAP_AX: map-ont<br>REMAP_REF: refseq_viral.genome.fna.gz<br>MINIMAP_QCF: 0",
          "node: 1125<br>w: 0.18662<br>Read classification: desamba<br>DESAMBA_ARGS: ",
          "node: 1208<br>w: 0.24438<br>DESAMBA_DB: desamba/refseq<br>DESAMBA_QFC: 20<br>Remapping: minimap2<br>MINIMAP_THREADS: -t 4<br>MINIMAP_ARGS: -t 4 --secondary=no<br>MINIMAP_DB: refseq_viral.genome.fna.gz<br>MINIMAP_AX: map-ont<br>REMAP_REF: refseq_viral.genome.fna.gz<br>MINIMAP_QCF: 0",
          "node: 1209<br>w: 0.12885<br>DESAMBA_DB: desamba/virosaurus<br>DESAMBA_QFC: 20<br>Remapping: minimap2<br>MINIMAP_THREADS: -t 4<br>MINIMAP_ARGS: -t 4 --secondary=no<br>MINIMAP_DB: refseq_viral.genome.fna.gz<br>MINIMAP_AX: map-ont<br>REMAP_REF: refseq_viral.genome.fna.gz<br>MINIMAP_QCF: 0",
          "node: 1126<br>w: 0.10019<br>Read classification: kaiju<br>KAIJU_ARGS: -e 3 -s 70 -X -v -a \"mem\"<br>KAIJU_DB: kaiju/viral/kaiju_db_viruses.fmi<br>KAIJU_THREADS: 4<br>Remapping: minimap2<br>MINIMAP_THREADS: -t 4<br>MINIMAP_ARGS: -t 4 --secondary=no<br>MINIMAP_DB: refseq_viral.genome.fna.gz<br>MINIMAP_AX: map-ont<br>REMAP_REF: refseq_viral.genome.fna.gz<br>MINIMAP_QCF: 0",
          "node: 1127<br>w: 0.31741<br>Read classification: centrifuge<br>CENTRIFUGE_ARGS: --min-hitlen 22<br>CENTRIFUGE_THREADS: 4<br>CENTRIFUGE_DB: centrifuge/viral/index<br>Remapping: minimap2<br>MINIMAP_THREADS: -t 4<br>MINIMAP_ARGS: -t 4 --secondary=no<br>MINIMAP_DB: refseq_viral.genome.fna.gz<br>MINIMAP_AX: map-ont<br>REMAP_REF: refseq_viral.genome.fna.gz<br>MINIMAP_QCF: 0",
          "node: 1128<br>w: 0.30405<br>Read classification: diamond<br>DIAMOND_ARGS: --top 3 -e 0.01 --id 70 --query-cover 60 --algo 0 --very-sensitive --long-reads<br>DIAMOND_DB: diamond/refseq_prot<br>DIAMOND_THREADS: 4<br>Remapping: minimap2<br>MINIMAP_THREADS: -t 4<br>MINIMAP_ARGS: -t 4 --secondary=no<br>MINIMAP_DB: refseq_viral.genome.fna.gz<br>MINIMAP_AX: map-ont<br>REMAP_REF: refseq_viral.genome.fna.gz<br>MINIMAP_QCF: 0"
         ],
         "type": "scatter",
         "x": [
          0.5,
          0.16666666666666666,
          0.08333333333333333,
          0.011904761904761904,
          0.003968253968253968,
          0.011904761904761904,
          0.01984126984126984,
          0.03571428571428571,
          0.02976190476190476,
          0.026785714285714284,
          0.03273809523809523,
          0.041666666666666664,
          0.038690476190476185,
          0.04464285714285714,
          0.05952380952380952,
          0.08333333333333333,
          0.07738095238095237,
          0.08928571428571427,
          0.10714285714285714,
          0.13095238095238093,
          0.15476190476190474,
          0.25,
          0.20833333333333337,
          0.17261904761904767,
          0.16865079365079372,
          0.17261904761904767,
          0.17658730158730163,
          0.1845238095238096,
          0.18154761904761912,
          0.1800595238095239,
          0.18303571428571436,
          0.18750000000000008,
          0.18601190476190485,
          0.18898809523809532,
          0.1964285714285715,
          0.20833333333333343,
          0.20535714285714296,
          0.21130952380952392,
          0.22023809523809534,
          0.23214285714285726,
          0.24404761904761918,
          0.2916666666666667,
          0.25595238095238093,
          0.251984126984127,
          0.25595238095238093,
          0.2599206349206349,
          0.26785714285714285,
          0.2648809523809524,
          0.26339285714285715,
          0.2663690476190476,
          0.2708333333333333,
          0.2693452380952381,
          0.27232142857142855,
          0.27976190476190477,
          0.2916666666666667,
          0.2886904761904762,
          0.29464285714285715,
          0.3035714285714286,
          0.3154761904761905,
          0.32738095238095244,
          0.5,
          0.41666666666666674,
          0.34523809523809534,
          0.33730158730158744,
          0.34523809523809534,
          0.35317460317460325,
          0.3690476190476192,
          0.36309523809523825,
          0.3601190476190478,
          0.3660714285714287,
          0.37500000000000017,
          0.3720238095238097,
          0.37797619047619063,
          0.392857142857143,
          0.41666666666666685,
          0.4107142857142859,
          0.42261904761904784,
          0.4404761904761907,
          0.4642857142857145,
          0.48809523809523836,
          0.5833333333333334,
          0.5416666666666666,
          0.5059523809523809,
          0.501984126984127,
          0.5059523809523809,
          0.5099206349206349,
          0.5178571428571428,
          0.5148809523809523,
          0.5133928571428571,
          0.5163690476190476,
          0.5208333333333333,
          0.519345238095238,
          0.5223214285714285,
          0.5297619047619047,
          0.5416666666666665,
          0.538690476190476,
          0.544642857142857,
          0.5535714285714284,
          0.5654761904761902,
          0.5773809523809521,
          0.625,
          0.5892857142857143,
          0.5853174603174603,
          0.5892857142857143,
          0.5932539682539683,
          0.6011904761904762,
          0.5982142857142857,
          0.5967261904761905,
          0.5997023809523809,
          0.6041666666666666,
          0.6026785714285714,
          0.6056547619047619,
          0.613095238095238,
          0.6249999999999999,
          0.6220238095238094,
          0.6279761904761904,
          0.6369047619047618,
          0.6488095238095236,
          0.6607142857142855,
          0.8333333333333333,
          0.7499999999999999,
          0.6785714285714285,
          0.6706349206349206,
          0.6785714285714285,
          0.6865079365079364,
          0.7023809523809523,
          0.6964285714285714,
          0.6934523809523809,
          0.6994047619047619,
          0.7083333333333333,
          0.7053571428571428,
          0.7113095238095237,
          0.7261904761904762,
          0.75,
          0.7440476190476191,
          0.7559523809523809,
          0.7738095238095238,
          0.7976190476190477,
          0.8214285714285715,
          0.9166666666666665,
          0.8749999999999999,
          0.8392857142857142,
          0.8353174603174602,
          0.8392857142857142,
          0.8432539682539681,
          0.851190476190476,
          0.8482142857142856,
          0.8467261904761904,
          0.8497023809523808,
          0.8541666666666665,
          0.8526785714285713,
          0.8556547619047618,
          0.8630952380952379,
          0.8749999999999998,
          0.8720238095238093,
          0.8779761904761902,
          0.8869047619047616,
          0.8988095238095235,
          0.9107142857142854,
          0.9583333333333333,
          0.9226190476190476,
          0.9186507936507936,
          0.9226190476190476,
          0.9265873015873015,
          0.9345238095238094,
          0.931547619047619,
          0.9300595238095237,
          0.9330357142857142,
          0.9374999999999999,
          0.9360119047619047,
          0.9389880952380951,
          0.9464285714285713,
          0.9583333333333331,
          0.9553571428571427,
          0.9613095238095236,
          0.970238095238095,
          0.9821428571428569,
          0.9940476190476187
         ],
         "y": [
          0,
          -0.2,
          -0.4,
          -0.6000000000000001,
          -0.8,
          -0.8,
          -0.8,
          -0.6000000000000001,
          -0.8,
          -1,
          -1,
          -0.8,
          -1,
          -1,
          -0.6000000000000001,
          -0.6000000000000001,
          -0.8,
          -0.8,
          -0.6000000000000001,
          -0.6000000000000001,
          -0.6000000000000001,
          -0.4,
          -0.6000000000000001,
          -0.8,
          -1,
          -1,
          -1,
          -0.8,
          -1,
          -1.2,
          -1.2,
          -1,
          -1.2,
          -1.2,
          -0.8,
          -0.8,
          -1,
          -1,
          -0.8,
          -0.8,
          -0.8,
          -0.6000000000000001,
          -0.8,
          -1,
          -1,
          -1,
          -0.8,
          -1,
          -1.2,
          -1.2,
          -1,
          -1.2,
          -1.2,
          -0.8,
          -0.8,
          -1,
          -1,
          -0.8,
          -0.8,
          -0.8,
          -0.2,
          -0.4,
          -0.6000000000000001,
          -0.8,
          -0.8,
          -0.8,
          -0.6000000000000001,
          -0.8,
          -1,
          -1,
          -0.8,
          -1,
          -1,
          -0.6000000000000001,
          -0.6000000000000001,
          -0.8,
          -0.8,
          -0.6000000000000001,
          -0.6000000000000001,
          -0.6000000000000001,
          -0.4,
          -0.6000000000000001,
          -0.8,
          -1,
          -1,
          -1,
          -0.8,
          -1,
          -1.2,
          -1.2,
          -1,
          -1.2,
          -1.2,
          -0.8,
          -0.8,
          -1,
          -1,
          -0.8,
          -0.8,
          -0.8,
          -0.6000000000000001,
          -0.8,
          -1,
          -1,
          -1,
          -0.8,
          -1,
          -1.2,
          -1.2,
          -1,
          -1.2,
          -1.2,
          -0.8,
          -0.8,
          -1,
          -1,
          -0.8,
          -0.8,
          -0.8,
          -0.2,
          -0.4,
          -0.6000000000000001,
          -0.8,
          -0.8,
          -0.8,
          -0.6000000000000001,
          -0.8,
          -1,
          -1,
          -0.8,
          -1,
          -1,
          -0.6000000000000001,
          -0.6000000000000001,
          -0.8,
          -0.8,
          -0.6000000000000001,
          -0.6000000000000001,
          -0.6000000000000001,
          -0.4,
          -0.6000000000000001,
          -0.8,
          -1,
          -1,
          -1,
          -0.8,
          -1,
          -1.2,
          -1.2,
          -1,
          -1.2,
          -1.2,
          -0.8,
          -0.8,
          -1,
          -1,
          -0.8,
          -0.8,
          -0.8,
          -0.6000000000000001,
          -0.8,
          -1,
          -1,
          -1,
          -0.8,
          -1,
          -1.2,
          -1.2,
          -1,
          -1.2,
          -1.2,
          -0.8,
          -0.8,
          -1,
          -1,
          -0.8,
          -0.8,
          -0.8
         ]
        }
       ],
       "layout": {
        "annotations": [
         {
          "showarrow": false,
          "text": "Python code: <a href='https://plotly.com/ipython-notebooks/network-graphs/'> https://plotly.com/ipython-notebooks/network-graphs/</a>",
          "x": 0.005,
          "xref": "paper",
          "y": -0.002,
          "yref": "paper"
         }
        ],
        "autosize": false,
        "height": 600,
        "hovermode": "closest",
        "margin": {
         "b": 20,
         "l": 5,
         "r": 5,
         "t": 40
        },
        "showlegend": false,
        "template": {
         "data": {
          "bar": [
           {
            "error_x": {
             "color": "#2a3f5f"
            },
            "error_y": {
             "color": "#2a3f5f"
            },
            "marker": {
             "line": {
              "color": "#E5ECF6",
              "width": 0.5
             }
            },
            "type": "bar"
           }
          ],
          "barpolar": [
           {
            "marker": {
             "line": {
              "color": "#E5ECF6",
              "width": 0.5
             }
            },
            "type": "barpolar"
           }
          ],
          "carpet": [
           {
            "aaxis": {
             "endlinecolor": "#2a3f5f",
             "gridcolor": "white",
             "linecolor": "white",
             "minorgridcolor": "white",
             "startlinecolor": "#2a3f5f"
            },
            "baxis": {
             "endlinecolor": "#2a3f5f",
             "gridcolor": "white",
             "linecolor": "white",
             "minorgridcolor": "white",
             "startlinecolor": "#2a3f5f"
            },
            "type": "carpet"
           }
          ],
          "choropleth": [
           {
            "colorbar": {
             "outlinewidth": 0,
             "ticks": ""
            },
            "type": "choropleth"
           }
          ],
          "contour": [
           {
            "colorbar": {
             "outlinewidth": 0,
             "ticks": ""
            },
            "colorscale": [
             [
              0,
              "#0d0887"
             ],
             [
              0.1111111111111111,
              "#46039f"
             ],
             [
              0.2222222222222222,
              "#7201a8"
             ],
             [
              0.3333333333333333,
              "#9c179e"
             ],
             [
              0.4444444444444444,
              "#bd3786"
             ],
             [
              0.5555555555555556,
              "#d8576b"
             ],
             [
              0.6666666666666666,
              "#ed7953"
             ],
             [
              0.7777777777777778,
              "#fb9f3a"
             ],
             [
              0.8888888888888888,
              "#fdca26"
             ],
             [
              1,
              "#f0f921"
             ]
            ],
            "type": "contour"
           }
          ],
          "contourcarpet": [
           {
            "colorbar": {
             "outlinewidth": 0,
             "ticks": ""
            },
            "type": "contourcarpet"
           }
          ],
          "heatmap": [
           {
            "colorbar": {
             "outlinewidth": 0,
             "ticks": ""
            },
            "colorscale": [
             [
              0,
              "#0d0887"
             ],
             [
              0.1111111111111111,
              "#46039f"
             ],
             [
              0.2222222222222222,
              "#7201a8"
             ],
             [
              0.3333333333333333,
              "#9c179e"
             ],
             [
              0.4444444444444444,
              "#bd3786"
             ],
             [
              0.5555555555555556,
              "#d8576b"
             ],
             [
              0.6666666666666666,
              "#ed7953"
             ],
             [
              0.7777777777777778,
              "#fb9f3a"
             ],
             [
              0.8888888888888888,
              "#fdca26"
             ],
             [
              1,
              "#f0f921"
             ]
            ],
            "type": "heatmap"
           }
          ],
          "heatmapgl": [
           {
            "colorbar": {
             "outlinewidth": 0,
             "ticks": ""
            },
            "colorscale": [
             [
              0,
              "#0d0887"
             ],
             [
              0.1111111111111111,
              "#46039f"
             ],
             [
              0.2222222222222222,
              "#7201a8"
             ],
             [
              0.3333333333333333,
              "#9c179e"
             ],
             [
              0.4444444444444444,
              "#bd3786"
             ],
             [
              0.5555555555555556,
              "#d8576b"
             ],
             [
              0.6666666666666666,
              "#ed7953"
             ],
             [
              0.7777777777777778,
              "#fb9f3a"
             ],
             [
              0.8888888888888888,
              "#fdca26"
             ],
             [
              1,
              "#f0f921"
             ]
            ],
            "type": "heatmapgl"
           }
          ],
          "histogram": [
           {
            "marker": {
             "colorbar": {
              "outlinewidth": 0,
              "ticks": ""
             }
            },
            "type": "histogram"
           }
          ],
          "histogram2d": [
           {
            "colorbar": {
             "outlinewidth": 0,
             "ticks": ""
            },
            "colorscale": [
             [
              0,
              "#0d0887"
             ],
             [
              0.1111111111111111,
              "#46039f"
             ],
             [
              0.2222222222222222,
              "#7201a8"
             ],
             [
              0.3333333333333333,
              "#9c179e"
             ],
             [
              0.4444444444444444,
              "#bd3786"
             ],
             [
              0.5555555555555556,
              "#d8576b"
             ],
             [
              0.6666666666666666,
              "#ed7953"
             ],
             [
              0.7777777777777778,
              "#fb9f3a"
             ],
             [
              0.8888888888888888,
              "#fdca26"
             ],
             [
              1,
              "#f0f921"
             ]
            ],
            "type": "histogram2d"
           }
          ],
          "histogram2dcontour": [
           {
            "colorbar": {
             "outlinewidth": 0,
             "ticks": ""
            },
            "colorscale": [
             [
              0,
              "#0d0887"
             ],
             [
              0.1111111111111111,
              "#46039f"
             ],
             [
              0.2222222222222222,
              "#7201a8"
             ],
             [
              0.3333333333333333,
              "#9c179e"
             ],
             [
              0.4444444444444444,
              "#bd3786"
             ],
             [
              0.5555555555555556,
              "#d8576b"
             ],
             [
              0.6666666666666666,
              "#ed7953"
             ],
             [
              0.7777777777777778,
              "#fb9f3a"
             ],
             [
              0.8888888888888888,
              "#fdca26"
             ],
             [
              1,
              "#f0f921"
             ]
            ],
            "type": "histogram2dcontour"
           }
          ],
          "mesh3d": [
           {
            "colorbar": {
             "outlinewidth": 0,
             "ticks": ""
            },
            "type": "mesh3d"
           }
          ],
          "parcoords": [
           {
            "line": {
             "colorbar": {
              "outlinewidth": 0,
              "ticks": ""
             }
            },
            "type": "parcoords"
           }
          ],
          "pie": [
           {
            "automargin": true,
            "type": "pie"
           }
          ],
          "scatter": [
           {
            "marker": {
             "colorbar": {
              "outlinewidth": 0,
              "ticks": ""
             }
            },
            "type": "scatter"
           }
          ],
          "scatter3d": [
           {
            "line": {
             "colorbar": {
              "outlinewidth": 0,
              "ticks": ""
             }
            },
            "marker": {
             "colorbar": {
              "outlinewidth": 0,
              "ticks": ""
             }
            },
            "type": "scatter3d"
           }
          ],
          "scattercarpet": [
           {
            "marker": {
             "colorbar": {
              "outlinewidth": 0,
              "ticks": ""
             }
            },
            "type": "scattercarpet"
           }
          ],
          "scattergeo": [
           {
            "marker": {
             "colorbar": {
              "outlinewidth": 0,
              "ticks": ""
             }
            },
            "type": "scattergeo"
           }
          ],
          "scattergl": [
           {
            "marker": {
             "colorbar": {
              "outlinewidth": 0,
              "ticks": ""
             }
            },
            "type": "scattergl"
           }
          ],
          "scattermapbox": [
           {
            "marker": {
             "colorbar": {
              "outlinewidth": 0,
              "ticks": ""
             }
            },
            "type": "scattermapbox"
           }
          ],
          "scatterpolar": [
           {
            "marker": {
             "colorbar": {
              "outlinewidth": 0,
              "ticks": ""
             }
            },
            "type": "scatterpolar"
           }
          ],
          "scatterpolargl": [
           {
            "marker": {
             "colorbar": {
              "outlinewidth": 0,
              "ticks": ""
             }
            },
            "type": "scatterpolargl"
           }
          ],
          "scatterternary": [
           {
            "marker": {
             "colorbar": {
              "outlinewidth": 0,
              "ticks": ""
             }
            },
            "type": "scatterternary"
           }
          ],
          "surface": [
           {
            "colorbar": {
             "outlinewidth": 0,
             "ticks": ""
            },
            "colorscale": [
             [
              0,
              "#0d0887"
             ],
             [
              0.1111111111111111,
              "#46039f"
             ],
             [
              0.2222222222222222,
              "#7201a8"
             ],
             [
              0.3333333333333333,
              "#9c179e"
             ],
             [
              0.4444444444444444,
              "#bd3786"
             ],
             [
              0.5555555555555556,
              "#d8576b"
             ],
             [
              0.6666666666666666,
              "#ed7953"
             ],
             [
              0.7777777777777778,
              "#fb9f3a"
             ],
             [
              0.8888888888888888,
              "#fdca26"
             ],
             [
              1,
              "#f0f921"
             ]
            ],
            "type": "surface"
           }
          ],
          "table": [
           {
            "cells": {
             "fill": {
              "color": "#EBF0F8"
             },
             "line": {
              "color": "white"
             }
            },
            "header": {
             "fill": {
              "color": "#C8D4E3"
             },
             "line": {
              "color": "white"
             }
            },
            "type": "table"
           }
          ]
         },
         "layout": {
          "annotationdefaults": {
           "arrowcolor": "#2a3f5f",
           "arrowhead": 0,
           "arrowwidth": 1
          },
          "autotypenumbers": "strict",
          "coloraxis": {
           "colorbar": {
            "outlinewidth": 0,
            "ticks": ""
           }
          },
          "colorscale": {
           "diverging": [
            [
             0,
             "#8e0152"
            ],
            [
             0.1,
             "#c51b7d"
            ],
            [
             0.2,
             "#de77ae"
            ],
            [
             0.3,
             "#f1b6da"
            ],
            [
             0.4,
             "#fde0ef"
            ],
            [
             0.5,
             "#f7f7f7"
            ],
            [
             0.6,
             "#e6f5d0"
            ],
            [
             0.7,
             "#b8e186"
            ],
            [
             0.8,
             "#7fbc41"
            ],
            [
             0.9,
             "#4d9221"
            ],
            [
             1,
             "#276419"
            ]
           ],
           "sequential": [
            [
             0,
             "#0d0887"
            ],
            [
             0.1111111111111111,
             "#46039f"
            ],
            [
             0.2222222222222222,
             "#7201a8"
            ],
            [
             0.3333333333333333,
             "#9c179e"
            ],
            [
             0.4444444444444444,
             "#bd3786"
            ],
            [
             0.5555555555555556,
             "#d8576b"
            ],
            [
             0.6666666666666666,
             "#ed7953"
            ],
            [
             0.7777777777777778,
             "#fb9f3a"
            ],
            [
             0.8888888888888888,
             "#fdca26"
            ],
            [
             1,
             "#f0f921"
            ]
           ],
           "sequentialminus": [
            [
             0,
             "#0d0887"
            ],
            [
             0.1111111111111111,
             "#46039f"
            ],
            [
             0.2222222222222222,
             "#7201a8"
            ],
            [
             0.3333333333333333,
             "#9c179e"
            ],
            [
             0.4444444444444444,
             "#bd3786"
            ],
            [
             0.5555555555555556,
             "#d8576b"
            ],
            [
             0.6666666666666666,
             "#ed7953"
            ],
            [
             0.7777777777777778,
             "#fb9f3a"
            ],
            [
             0.8888888888888888,
             "#fdca26"
            ],
            [
             1,
             "#f0f921"
            ]
           ]
          },
          "colorway": [
           "#636efa",
           "#EF553B",
           "#00cc96",
           "#ab63fa",
           "#FFA15A",
           "#19d3f3",
           "#FF6692",
           "#B6E880",
           "#FF97FF",
           "#FECB52"
          ],
          "font": {
           "color": "#2a3f5f"
          },
          "geo": {
           "bgcolor": "white",
           "lakecolor": "white",
           "landcolor": "#E5ECF6",
           "showlakes": true,
           "showland": true,
           "subunitcolor": "white"
          },
          "hoverlabel": {
           "align": "left"
          },
          "hovermode": "closest",
          "mapbox": {
           "style": "light"
          },
          "paper_bgcolor": "white",
          "plot_bgcolor": "#E5ECF6",
          "polar": {
           "angularaxis": {
            "gridcolor": "white",
            "linecolor": "white",
            "ticks": ""
           },
           "bgcolor": "#E5ECF6",
           "radialaxis": {
            "gridcolor": "white",
            "linecolor": "white",
            "ticks": ""
           }
          },
          "scene": {
           "xaxis": {
            "backgroundcolor": "#E5ECF6",
            "gridcolor": "white",
            "gridwidth": 2,
            "linecolor": "white",
            "showbackground": true,
            "ticks": "",
            "zerolinecolor": "white"
           },
           "yaxis": {
            "backgroundcolor": "#E5ECF6",
            "gridcolor": "white",
            "gridwidth": 2,
            "linecolor": "white",
            "showbackground": true,
            "ticks": "",
            "zerolinecolor": "white"
           },
           "zaxis": {
            "backgroundcolor": "#E5ECF6",
            "gridcolor": "white",
            "gridwidth": 2,
            "linecolor": "white",
            "showbackground": true,
            "ticks": "",
            "zerolinecolor": "white"
           }
          },
          "shapedefaults": {
           "line": {
            "color": "#2a3f5f"
           }
          },
          "ternary": {
           "aaxis": {
            "gridcolor": "white",
            "linecolor": "white",
            "ticks": ""
           },
           "baxis": {
            "gridcolor": "white",
            "linecolor": "white",
            "ticks": ""
           },
           "bgcolor": "#E5ECF6",
           "caxis": {
            "gridcolor": "white",
            "linecolor": "white",
            "ticks": ""
           }
          },
          "title": {
           "x": 0.05
          },
          "xaxis": {
           "automargin": true,
           "gridcolor": "white",
           "linecolor": "white",
           "ticks": "",
           "title": {
            "standoff": 15
           },
           "zerolinecolor": "white",
           "zerolinewidth": 2
          },
          "yaxis": {
           "automargin": true,
           "gridcolor": "white",
           "linecolor": "white",
           "ticks": "",
           "title": {
            "standoff": 15
           },
           "zerolinecolor": "white",
           "zerolinewidth": 2
          }
         }
        },
        "title": {
         "font": {
          "size": 16
         },
         "text": "<br>Pipeline graph"
        },
        "width": 1050,
        "xaxis": {
         "showgrid": false,
         "showticklabels": false,
         "zeroline": false
        },
        "yaxis": {
         "showgrid": false,
         "showticklabels": false,
         "zeroline": false
        }
       }
      }
     },
     "metadata": {},
     "output_type": "display_data"
    }
   ],
   "source": [
    "from  modules.analysis_functions import plot_benchmark_tree, plot_workflow_boxplots\n",
    "import numpy as np\n",
    "\n",
    "internode_function=np.mean\n",
    "stats=[\"precision\", \"coverage\"]\n",
    "\n",
    "plot_benchmark_tree(pipe_tree, internode_function=internode_function, stats=stats)"
   ]
  },
  {
   "cell_type": "code",
   "execution_count": 12,
   "metadata": {},
   "outputs": [
    {
     "data": {
      "image/png": "[encoded data removed]",
      "text/plain": [
       "<Figure size 1000x1000 with 1 Axes>"
      ]
     },
     "metadata": {},
     "output_type": "display_data"
    }
   ],
   "source": [
    "select_modules_dict= {\n",
    "    CS.PIPELINE_NAME_viral_enrichment: [\"kaiju\", \"centrifuge\", \"krakenuniq\"],\n",
    "    CS.PIPELINE_NAME_contig_classification: [\"blast\", \"minimap2\"],\n",
    "    CS.PIPELINE_NAME_read_classification: [\"kaiju\", \"centrifuge\", \"krakenuniq\", \"diamond\", \"desamba\", \"clark\", \"fastviromeexplorer\"],\n",
    "}\n",
    "\n",
    "plot_workflow_boxplots(pipe_tree, stats= stats, select_modules_dict= select_modules_dict)\n",
    "\n"
   ]
  }
 ],
 "metadata": {
  "kernelspec": {
   "display_name": ".venv",
   "language": "python",
   "name": "python3"
  },
  "language_info": {
   "codemirror_mode": {
    "name": "ipython",
    "version": 3
   },
   "file_extension": ".py",
   "mimetype": "text/x-python",
   "name": "python",
   "nbconvert_exporter": "python",
   "pygments_lexer": "ipython3",
   "version": "3.10.12"
  },
  "orig_nbformat": 4
 },
 "nbformat": 4,
 "nbformat_minor": 2
}
